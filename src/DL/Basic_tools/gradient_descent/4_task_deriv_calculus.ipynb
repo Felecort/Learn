{
 "cells": [
  {
   "cell_type": "code",
   "execution_count": 25,
   "metadata": {},
   "outputs": [],
   "source": [
    "from matplotlib import pyplot as plt\n",
    "import numpy as np"
   ]
  },
  {
   "cell_type": "code",
   "execution_count": 26,
   "metadata": {},
   "outputs": [],
   "source": [
    "def numerical_derivative_1d(func, epsilon):\n",
    "    \"\"\"\n",
    "    Функция для приближённого вычисления производной функции одной переменной. \n",
    "    :param func: float -> float — произвольная дифференцируемая функция\n",
    "    :param epsilon: float — максимальная величина приращения по оси Ох\n",
    "    :return: другая функция, которая приближённо вычисляет производную в точке\n",
    "    \"\"\"\n",
    "    \n",
    "    def deriv_func(x):\n",
    "        \"\"\"\n",
    "        :param x: float — точка, в которой нужно вычислить производную\n",
    "        :return: приближённое значение производной в этой точке\n",
    "        \"\"\"\n",
    "        deriv = (func(x + epsilon) - func(x)) / epsilon\n",
    "        return deriv \n",
    "    return deriv_func"
   ]
  },
  {
   "cell_type": "code",
   "execution_count": 27,
   "metadata": {},
   "outputs": [
    {
     "name": "stdout",
     "output_type": "stream",
     "text": [
      "True\n"
     ]
    }
   ],
   "source": [
    "# Проверьте себя!\n",
    "def polynom_to_prime(x):\n",
    "    return 20 * x**5 + x**3 - 5 * x**2 + 2 * x + 2.0\n",
    "\n",
    "\n",
    "def primed_poly(x):\n",
    "    return 100 * x**4 + 3 * x**2 -10 * x + 2.0\n",
    "\n",
    "\n",
    "approx_deriv = numerical_derivative_1d(polynom_to_prime, 1e-5)\n",
    "\n",
    "grid = np.linspace(-2, 2, 100)\n",
    "right_flag = True\n",
    "tol = 0.05\n",
    "debug_print = []\n",
    "\n",
    "for x in grid:\n",
    "    estimation_error = abs(primed_poly(x) - approx_deriv(x)) \n",
    "    if estimation_error > tol:\n",
    "        debug_print.append((estimation_error, primed_poly(x), approx_deriv(x)))\n",
    "        right_flag = False\n",
    "\n",
    "if not right_flag:\n",
    "    print(\"Что-то не то...\")\n",
    "    print(debug_print)\n",
    "    plt.plot(grid, primed_poly(grid), label=\"Истинная производная\")\n",
    "    plt.plot(grid, approx_deriv(grid), label=\"Численное приближение\")\n",
    "    plt.legend()\n",
    "\n",
    "print(str(right_flag))"
   ]
  }
 ],
 "metadata": {
  "interpreter": {
   "hash": "4bfd4ff3fa42f792e9ca4f5ed23a406369bd745bdab3b75153b8c4e6e882a8bd"
  },
  "kernelspec": {
   "display_name": "Python 3.9.7 64-bit ('learn_venv': conda)",
   "language": "python",
   "name": "python3"
  },
  "language_info": {
   "codemirror_mode": {
    "name": "ipython",
    "version": 3
   },
   "file_extension": ".py",
   "mimetype": "text/x-python",
   "name": "python",
   "nbconvert_exporter": "python",
   "pygments_lexer": "ipython3",
   "version": "3.9.7"
  },
  "orig_nbformat": 4
 },
 "nbformat": 4,
 "nbformat_minor": 2
}
