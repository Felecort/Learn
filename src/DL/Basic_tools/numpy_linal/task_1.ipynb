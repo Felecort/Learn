{
 "cells": [
  {
   "cell_type": "code",
   "execution_count": 1,
   "metadata": {},
   "outputs": [],
   "source": [
    "import numpy as np"
   ]
  },
  {
   "cell_type": "code",
   "execution_count": 16,
   "metadata": {},
   "outputs": [],
   "source": [
    "def scalar_mult(first, second, row, col):\n",
    "    res = 0\n",
    "    for i in range(len(first)):\n",
    "        res += first[row][i] * second[i][col]\n",
    "    return res\n",
    "\n",
    "\n",
    "def no_numpy_mult(first, second):\n",
    "    result = []\n",
    "    for row in range(len(first)):\n",
    "        result.append([])\n",
    "        for col in range(len(first)):\n",
    "            result[row].append(scalar_mult(first, second, row, col))\n",
    "    return result\n",
    "\n",
    "# def numpy_mult(first, second):\n",
    "#     \"\"\"\n",
    "#     param first: np.array[size, size]\n",
    "#     param second: np.array[size, size]\n",
    "#     \"\"\"\n",
    "\n",
    "#     #YOUR CODE: please use numpy\n",
    "\n",
    "#     result = #YOUR CODE: create np.array\n",
    "#     return result"
   ]
  },
  {
   "cell_type": "code",
   "execution_count": 17,
   "metadata": {},
   "outputs": [
    {
     "data": {
      "text/plain": [
       "[[30, 36, 42], [66, 81, 96], [102, 126, 150]]"
      ]
     },
     "execution_count": 17,
     "metadata": {},
     "output_type": "execute_result"
    }
   ],
   "source": [
    "first = [[1, 2, 3],\n",
    "         [4, 5, 6],\n",
    "         [7, 8, 9]]\n",
    "second = [[1, 2, 3],\n",
    "          [4, 5, 6],\n",
    "          [7, 8, 9]]\n",
    "\n",
    "no_numpy_mult(first, second)\n",
    "\n",
    "\n"
   ]
  }
 ],
 "metadata": {
  "interpreter": {
   "hash": "4bfd4ff3fa42f792e9ca4f5ed23a406369bd745bdab3b75153b8c4e6e882a8bd"
  },
  "kernelspec": {
   "display_name": "Python 3.9.7 64-bit ('learn_venv': conda)",
   "language": "python",
   "name": "python3"
  },
  "language_info": {
   "codemirror_mode": {
    "name": "ipython",
    "version": 3
   },
   "file_extension": ".py",
   "mimetype": "text/x-python",
   "name": "python",
   "nbconvert_exporter": "python",
   "pygments_lexer": "ipython3",
   "version": "3.9.7"
  },
  "orig_nbformat": 4
 },
 "nbformat": 4,
 "nbformat_minor": 2
}
