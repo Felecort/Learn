{
 "cells": [
  {
   "cell_type": "code",
   "execution_count": null,
   "metadata": {},
   "outputs": [],
   "source": [
    "from math import sin, cos, tan, exp, pi\n",
    "def grad_1(x, y, z):\n",
    "    #возвращает кортеж из 3 чисел --- частных производных по x,y,z \n",
    "    dx = z * cos(x * z) + exp(x)\n",
    "    dy = -2 * y * z\n",
    "    dz = x * cos(x * z) - y * y\n",
    "    return (dx, dy, dz)"
   ]
  }
 ],
 "metadata": {
  "language_info": {
   "name": "python"
  },
  "orig_nbformat": 4
 },
 "nbformat": 4,
 "nbformat_minor": 2
}
