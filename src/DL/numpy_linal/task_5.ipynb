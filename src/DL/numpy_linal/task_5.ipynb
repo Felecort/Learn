{
 "cells": [
  {
   "cell_type": "code",
   "execution_count": 1,
   "metadata": {},
   "outputs": [],
   "source": [
    "import numpy as np"
   ]
  },
  {
   "cell_type": "code",
   "execution_count": 57,
   "metadata": {},
   "outputs": [],
   "source": [
    "def transform(X, a=1):\n",
    "    x, y = X.shape\n",
    "    res = np.zeros((x, y * 2))\n",
    "    for row in range(x):\n",
    "        res[row][0:y] = X[row][0:y]\n",
    "        for i in range(y):\n",
    "            if i % 2 == 0:\n",
    "                res[row][-i - 1] = X[row][i] ** 3\n",
    "            else:\n",
    "                res[row][-i - 1] = a\n",
    "    return res"
   ]
  },
  {
   "cell_type": "code",
   "execution_count": 58,
   "metadata": {},
   "outputs": [
    {
     "name": "stdout",
     "output_type": "stream",
     "text": [
      "[[1 2 3 4 5]\n",
      " [1 2 3 4 5]]\n"
     ]
    },
    {
     "data": {
      "text/plain": [
       "array([[  1.,   2.,   3.,   4.,   5., 125.,   1.,  27.,   1.,   1.],\n",
       "       [  1.,   2.,   3.,   4.,   5., 125.,   1.,  27.,   1.,   1.]])"
      ]
     },
     "execution_count": 58,
     "metadata": {},
     "output_type": "execute_result"
    }
   ],
   "source": [
    "# arr = np.random.randint(5, size=(2, 4))\n",
    "arr = np.array([[1,2,3,4,5],[1,2,3,4,5]])\n",
    "print(arr)\n",
    "transform(arr)"
   ]
  }
 ],
 "metadata": {
  "interpreter": {
   "hash": "4bfd4ff3fa42f792e9ca4f5ed23a406369bd745bdab3b75153b8c4e6e882a8bd"
  },
  "kernelspec": {
   "display_name": "Python 3.9.7 64-bit ('learn_venv': conda)",
   "language": "python",
   "name": "python3"
  },
  "language_info": {
   "codemirror_mode": {
    "name": "ipython",
    "version": 3
   },
   "file_extension": ".py",
   "mimetype": "text/x-python",
   "name": "python",
   "nbconvert_exporter": "python",
   "pygments_lexer": "ipython3",
   "version": "3.9.7"
  },
  "orig_nbformat": 4
 },
 "nbformat": 4,
 "nbformat_minor": 2
}
