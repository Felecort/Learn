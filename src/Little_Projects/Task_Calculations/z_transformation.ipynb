{
 "cells": [
  {
   "cell_type": "code",
   "execution_count": 1,
   "metadata": {},
   "outputs": [],
   "source": [
    "from matplotlib import pyplot as plt"
   ]
  },
  {
   "cell_type": "code",
   "execution_count": 2,
   "metadata": {},
   "outputs": [],
   "source": [
    "y = []\n",
    "points = 7\n",
    "x = [i / 2 for i in range(2, points * 2)]\n",
    "for i in range(1, points):\n",
    "    i_square = i * i\n",
    "    y.append(i_square)\n",
    "    y.append(i_square)\n",
    "    i += 1"
   ]
  },
  {
   "cell_type": "code",
   "execution_count": 3,
   "metadata": {},
   "outputs": [
    {
     "data": {
      "image/png": "[encoded data removed]",
      "text/plain": [
       "<Figure size 432x288 with 1 Axes>"
      ]
     },
     "metadata": {
      "needs_background": "light"
     },
     "output_type": "display_data"
    }
   ],
   "source": [
    "# plt.figure(figsize=(10, 3))\n",
    "plt.plot(x, y, \"b-\")\n",
    "plt.grid(color='black', linestyle='-', linewidth=1)\n",
    "# plt.savefig('x1.png', dpi = 1000)\n",
    "plt.show()"
   ]
  }
 ],
 "metadata": {
  "interpreter": {
   "hash": "6cd4844cba16666f5ec57332c26b12b0883bde970a37dc64d8faf363025cf164"
  },
  "kernelspec": {
   "display_name": "Python 3.9.7 64-bit ('venv_Learn': conda)",
   "language": "python",
   "name": "python3"
  },
  "language_info": {
   "codemirror_mode": {
    "name": "ipython",
    "version": 3
   },
   "file_extension": ".py",
   "mimetype": "text/x-python",
   "name": "python",
   "nbconvert_exporter": "python",
   "pygments_lexer": "ipython3",
   "version": "3.9.7"
  },
  "orig_nbformat": 4
 },
 "nbformat": 4,
 "nbformat_minor": 2
}
