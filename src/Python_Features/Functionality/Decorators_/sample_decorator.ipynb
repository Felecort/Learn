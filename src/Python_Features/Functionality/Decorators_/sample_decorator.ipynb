{
 "cells": [
  {
   "cell_type": "code",
   "execution_count": 1,
   "metadata": {},
   "outputs": [],
   "source": [
    "def decorator(func):\n",
    "    return func\n",
    "\n",
    "\n",
    "@decorator\n",
    "def decorated():\n",
    "    print(\"HW!\")"
   ]
  },
  {
   "cell_type": "code",
   "execution_count": 2,
   "metadata": {},
   "outputs": [],
   "source": [
    "decorated = decorator(decorated) # Equal with\n",
    "# @decorator"
   ]
  },
  {
   "cell_type": "code",
   "execution_count": 6,
   "metadata": {},
   "outputs": [
    {
     "name": "stdout",
     "output_type": "stream",
     "text": [
      "I'm new function inside the decorator!\n",
      "new_func\n"
     ]
    }
   ],
   "source": [
    "def decorator(func):\n",
    "    def new_func():\n",
    "        print(\"I'm new function inside the decorator!\")\n",
    "    return new_func\n",
    "\n",
    "\n",
    "@decorator\n",
    "def decorated():\n",
    "    print(\"I'm the main function. I won't be called...\")\n",
    "    \n",
    "\n",
    "decorated()\n",
    "print(decorated.__name__)"
   ]
  },
  {
   "cell_type": "code",
   "execution_count": null,
   "metadata": {},
   "outputs": [],
   "source": []
  },
  {
   "cell_type": "code",
   "execution_count": 33,
   "metadata": {},
   "outputs": [
    {
     "data": {
      "text/plain": [
       "45"
      ]
     },
     "execution_count": 33,
     "metadata": {},
     "output_type": "execute_result"
    }
   ],
   "source": [
    "def logger(func):\n",
    "    def wrapped(num_list): # Default func name\n",
    "        result = func(num_list)\n",
    "        with open(\"log.txt\", \"a\") as f:\n",
    "            f.write(str(result) + \"\\n\")\n",
    "        return result\n",
    "    return wrapped\n",
    "    \n",
    "    \n",
    "def summator(num_list):\n",
    "    return sum(num_list)\n",
    "summator = logger(summator)\n",
    "\n",
    "summator(list(range(1, 10)))"
   ]
  },
  {
   "cell_type": "code",
   "execution_count": 21,
   "metadata": {},
   "outputs": [
    {
     "data": {
      "text/plain": [
       "45"
      ]
     },
     "execution_count": 21,
     "metadata": {},
     "output_type": "execute_result"
    }
   ],
   "source": [
    "def logger(func):\n",
    "    def wrapped(*args, **kwargs): # Should to use *args, **kwargs\n",
    "        result = func(*args, **kwargs)\n",
    "        with open(\"log.txt\", \"a\") as f:\n",
    "            f.write(str(result) + \"\\n\")\n",
    "        return result\n",
    "    return wrapped\n",
    "   \n",
    "@logger\n",
    "def summator(num_list):\n",
    "    return sum(num_list)\n",
    "\n",
    "\n",
    "\n",
    "summator(list(range(1, 10)))"
   ]
  },
  {
   "cell_type": "code",
   "execution_count": 22,
   "metadata": {},
   "outputs": [
    {
     "name": "stdout",
     "output_type": "stream",
     "text": [
      "wrapped\n"
     ]
    }
   ],
   "source": [
    "print(summator.__name__) # Very bad output for debug tasks"
   ]
  },
  {
   "cell_type": "code",
   "execution_count": 34,
   "metadata": {},
   "outputs": [
    {
     "name": "stdout",
     "output_type": "stream",
     "text": [
      "summator\n"
     ]
    }
   ],
   "source": [
    "import functools\n",
    "\n",
    "\n",
    "def logger(func):\n",
    "    @functools.wraps(func)  # Npw we get our func name \"summator\"\n",
    "    def wrapped(*args, **kwargs): \n",
    "        result = func(*args, **kwargs)\n",
    "        with open(\"log.txt\", \"a\") as f:\n",
    "            f.write(str(result) + \"\\n\")\n",
    "        return result\n",
    "    return wrapped\n",
    "   \n",
    "@logger\n",
    "def summator(num_list):\n",
    "    return sum(num_list)\n",
    "\n",
    "\n",
    "summator(list(range(1, 10)))\n",
    "print(summator.__name__) "
   ]
  },
  {
   "cell_type": "markdown",
   "metadata": {},
   "source": [
    "Decorator with parameters"
   ]
  },
  {
   "cell_type": "code",
   "execution_count": 35,
   "metadata": {},
   "outputs": [
    {
     "data": {
      "text/plain": [
       "66"
      ]
     },
     "execution_count": 35,
     "metadata": {},
     "output_type": "execute_result"
    }
   ],
   "source": [
    "# The decorator return decorator that used to our function\n",
    "\n",
    "def logger(filename):\n",
    "    def decorator(func):\n",
    "        def wrapped(*args, **kwargs):\n",
    "            result = func(*args, **kwargs)\n",
    "            with open(filename, \"a\") as f:\n",
    "                f.write(str(result))\n",
    "            return result \n",
    "        return wrapped          \n",
    "    return decorator\n",
    "    \n",
    "\n",
    "@logger(\"new_log.txt\")\n",
    "def summator(num_list):\n",
    "    return sum(num_list)\n",
    "\n",
    "# logger = logger(\"new_log.txt\")\n",
    "# summator = logger(summator)\n",
    "\n",
    "# summator = logger(\"log.txt\")(summator)\n",
    "\n",
    "summator(list(range(1, 12)))"
   ]
  },
  {
   "cell_type": "markdown",
   "metadata": {},
   "source": [
    "Several Decorators"
   ]
  },
  {
   "cell_type": "code",
   "execution_count": 36,
   "metadata": {},
   "outputs": [
    {
     "name": "stdout",
     "output_type": "stream",
     "text": [
      "Inside first_dec\n",
      "Inside second_dec\n",
      "finally called...\n"
     ]
    }
   ],
   "source": [
    "def first_dec(func):\n",
    "    def wrapped():\n",
    "        print(\"Inside first_dec\")\n",
    "        return func()\n",
    "    return wrapped\n",
    "\n",
    "def second_dec(func):\n",
    "    def wrapped():\n",
    "        print(\"Inside second_dec\")\n",
    "        return func()\n",
    "    return wrapped\n",
    "    \n",
    "    \n",
    "@first_dec\n",
    "@second_dec\n",
    "def decorated():\n",
    "    print(\"finally called...\")\n",
    "    \n",
    "# decorated = first_dec(second_dec(decorated))\n",
    "decorated()"
   ]
  },
  {
   "cell_type": "code",
   "execution_count": 39,
   "metadata": {},
   "outputs": [
    {
     "data": {
      "text/plain": [
       "'<b><i>finally called</i></b>'"
      ]
     },
     "execution_count": 39,
     "metadata": {},
     "output_type": "execute_result"
    }
   ],
   "source": [
    "def bold(func):\n",
    "    def wrapped():\n",
    "        return \"<b>\" + func() + \"</b>\"\n",
    "    return wrapped\n",
    "\n",
    "def italic(func):\n",
    "    def wrapped():\n",
    "        return \"<i>\" + func() + \"</i>\"\n",
    "    return wrapped\n",
    "    \n",
    "    \n",
    "@bold\n",
    "@italic\n",
    "def decorated():\n",
    "    return \"finally called\"\n",
    "    \n",
    "# decorated = first_dec(second_dec(decorated))\n",
    "decorated()"
   ]
  },
  {
   "cell_type": "code",
   "execution_count": null,
   "metadata": {},
   "outputs": [],
   "source": []
  }
 ],
 "metadata": {
  "interpreter": {
   "hash": "4bfd4ff3fa42f792e9ca4f5ed23a406369bd745bdab3b75153b8c4e6e882a8bd"
  },
  "kernelspec": {
   "display_name": "Python 3.9.7 ('learn_venv')",
   "language": "python",
   "name": "python3"
  },
  "language_info": {
   "codemirror_mode": {
    "name": "ipython",
    "version": 3
   },
   "file_extension": ".py",
   "mimetype": "text/x-python",
   "name": "python",
   "nbconvert_exporter": "python",
   "pygments_lexer": "ipython3",
   "version": "3.9.7"
  },
  "orig_nbformat": 4
 },
 "nbformat": 4,
 "nbformat_minor": 2
}
