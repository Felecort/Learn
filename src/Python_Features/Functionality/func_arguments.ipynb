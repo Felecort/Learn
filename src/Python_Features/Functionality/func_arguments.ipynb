{
 "cells": [
  {
   "cell_type": "code",
   "execution_count": 5,
   "metadata": {},
   "outputs": [
    {
     "name": "stdout",
     "output_type": "stream",
     "text": [
      "a=1, b=2, kw_only=4\n"
     ]
    }
   ],
   "source": [
    "def g1(a, b, *, kw_only):\n",
    "    print(f\"{a=}, {b=}, {kw_only=}\")\n",
    "\n",
    "\n",
    "g1(1, b=2, kw_only=4)\n"
   ]
  },
  {
   "cell_type": "code",
   "execution_count": 8,
   "metadata": {},
   "outputs": [
    {
     "name": "stdout",
     "output_type": "stream",
     "text": [
      "a=1, b=2, args=(), kw_only=4\n",
      "a=1, b=2, args=(4, 5, 6), kw_only=4\n"
     ]
    }
   ],
   "source": [
    "def g2(a, b, *args, kw_only=None):\n",
    "    print(f\"{a=}, {b=}, {args=}, {kw_only=}\")\n",
    "\n",
    "\n",
    "g2(1, b=2, kw_only=4)\n",
    "g2(1, 2, 4, 5, 6, kw_only=4)\n"
   ]
  },
  {
   "cell_type": "code",
   "execution_count": null,
   "metadata": {},
   "outputs": [],
   "source": [
    "def g3(pos_only, /, pos_or_kw, *, kw_only, **kwargs):\n",
    "    print(f\"{pos_only=}, {c=}, {d=}, {e=}, {f=}\")\n",
    "    \n",
    "g3()"
   ]
  }
 ],
 "metadata": {
  "kernelspec": {
   "display_name": "Python 3.10.4 ('venv': venv)",
   "language": "python",
   "name": "python3"
  },
  "language_info": {
   "codemirror_mode": {
    "name": "ipython",
    "version": 3
   },
   "file_extension": ".py",
   "mimetype": "text/x-python",
   "name": "python",
   "nbconvert_exporter": "python",
   "pygments_lexer": "ipython3",
   "version": "3.10.4"
  },
  "orig_nbformat": 4,
  "vscode": {
   "interpreter": {
    "hash": "d6e71dfe3b106887211decc9779e90b491303283ca8d1c2d9d0e2004f85f459f"
   }
  }
 },
 "nbformat": 4,
 "nbformat_minor": 2
}
