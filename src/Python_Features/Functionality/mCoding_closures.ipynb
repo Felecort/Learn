{
 "cells": [
  {
   "cell_type": "markdown",
   "metadata": {},
   "source": [
    "# Level six"
   ]
  },
  {
   "cell_type": "code",
   "execution_count": 2,
   "metadata": {},
   "outputs": [],
   "source": [
    "x = \"global x\"\n",
    "def level_six():\n",
    "    z = \"outer z\"\n",
    "    def donky():\n",
    "        def inner(y):\n",
    "            return x, y, z\n",
    "        \n",
    "        z = \"donky z\"\n",
    "        return inner\n",
    "    \n",
    "    def chonky():\n",
    "        x = \"chonky x\"\n",
    "        f = donky()\n",
    "        return f(\"y arg\")\n",
    "    \n",
    "    return chonky()\n",
    "\n",
    "\n",
    "level_six()"
   ]
  },
  {
   "cell_type": "markdown",
   "metadata": {},
   "source": [
    "# Level one"
   ]
  },
  {
   "cell_type": "code",
   "execution_count": 5,
   "metadata": {},
   "outputs": [
    {
     "data": {
      "text/plain": [
       "'global x'"
      ]
     },
     "execution_count": 5,
     "metadata": {},
     "output_type": "execute_result"
    }
   ],
   "source": [
    "x = \"global x\"\n",
    "\n",
    "def level_one():\n",
    "    return x\n",
    "\n",
    "\n",
    "level_one()"
   ]
  },
  {
   "cell_type": "markdown",
   "metadata": {},
   "source": [
    "# Level two"
   ]
  },
  {
   "cell_type": "code",
   "execution_count": 9,
   "metadata": {},
   "outputs": [
    {
     "ename": "UnboundLocalError",
     "evalue": "local variable 'x' referenced before assignment",
     "output_type": "error",
     "traceback": [
      "\u001b[1;31m---------------------------------------------------------------------------\u001b[0m",
      "\u001b[1;31mUnboundLocalError\u001b[0m                         Traceback (most recent call last)",
      "\u001b[1;32md:\\Projects\\PythonProjects\\Python-rush\\src\\Python_Features\\Functionality\\mCoding_closures.ipynb Cell 3\u001b[0m in \u001b[0;36m<cell line: 8>\u001b[1;34m()\u001b[0m\n\u001b[0;32m      <a href='vscode-notebook-cell:/d%3A/Projects/PythonProjects/Python-rush/src/Python_Features/Functionality/mCoding_closures.ipynb#W2sZmlsZQ%3D%3D?line=4'>5</a>\u001b[0m         x \u001b[39m=\u001b[39m \u001b[39m\"\u001b[39m\u001b[39mlocal x\u001b[39m\u001b[39m\"\u001b[39m\n\u001b[0;32m      <a href='vscode-notebook-cell:/d%3A/Projects/PythonProjects/Python-rush/src/Python_Features/Functionality/mCoding_closures.ipynb#W2sZmlsZQ%3D%3D?line=5'>6</a>\u001b[0m     \u001b[39mreturn\u001b[39;00m x\n\u001b[1;32m----> <a href='vscode-notebook-cell:/d%3A/Projects/PythonProjects/Python-rush/src/Python_Features/Functionality/mCoding_closures.ipynb#W2sZmlsZQ%3D%3D?line=7'>8</a>\u001b[0m level_two(\u001b[39m0\u001b[39;49m)\n",
      "\u001b[1;32md:\\Projects\\PythonProjects\\Python-rush\\src\\Python_Features\\Functionality\\mCoding_closures.ipynb Cell 3\u001b[0m in \u001b[0;36mlevel_two\u001b[1;34m(v)\u001b[0m\n\u001b[0;32m      <a href='vscode-notebook-cell:/d%3A/Projects/PythonProjects/Python-rush/src/Python_Features/Functionality/mCoding_closures.ipynb#W2sZmlsZQ%3D%3D?line=3'>4</a>\u001b[0m \u001b[39mif\u001b[39;00m v:\n\u001b[0;32m      <a href='vscode-notebook-cell:/d%3A/Projects/PythonProjects/Python-rush/src/Python_Features/Functionality/mCoding_closures.ipynb#W2sZmlsZQ%3D%3D?line=4'>5</a>\u001b[0m     x \u001b[39m=\u001b[39m \u001b[39m\"\u001b[39m\u001b[39mlocal x\u001b[39m\u001b[39m\"\u001b[39m\n\u001b[1;32m----> <a href='vscode-notebook-cell:/d%3A/Projects/PythonProjects/Python-rush/src/Python_Features/Functionality/mCoding_closures.ipynb#W2sZmlsZQ%3D%3D?line=5'>6</a>\u001b[0m \u001b[39mreturn\u001b[39;00m x\n",
      "\u001b[1;31mUnboundLocalError\u001b[0m: local variable 'x' referenced before assignment"
     ]
    }
   ],
   "source": [
    "x = \"global x\"\n",
    "\n",
    "def level_two(v):\n",
    "    if v:\n",
    "        x = \"local x\"\n",
    "    return x\n",
    "\n",
    "\n",
    "level_two(0)"
   ]
  },
  {
   "cell_type": "markdown",
   "metadata": {},
   "source": [
    "# Level three"
   ]
  },
  {
   "cell_type": "code",
   "execution_count": 11,
   "metadata": {},
   "outputs": [
    {
     "data": {
      "text/plain": [
       "('global x', 'y arg', 'outer z')"
      ]
     },
     "execution_count": 11,
     "metadata": {},
     "output_type": "execute_result"
    }
   ],
   "source": [
    "x = \"global x\"\n",
    "\n",
    "def level_three():\n",
    "    z = \"outer z\"\n",
    "    def inner(y):\n",
    "        return x, y, z\n",
    "    \n",
    "    return inner(\"y arg\")\n",
    "\n",
    "\n",
    "level_three()"
   ]
  },
  {
   "cell_type": "code",
   "execution_count": 17,
   "metadata": {},
   "outputs": [
    {
     "name": "stdout",
     "output_type": "stream",
     "text": [
      "(<cell at 0x000001AAEFC2CD90: str object at 0x000001AAF1B16FF0>,)\n",
      "(<cell at 0x000001AAEFC2CD90: str object at 0x000001AAF1B17030>,)\n"
     ]
    },
    {
     "data": {
      "text/plain": [
       "('global x', 'y arg', 'second outer z')"
      ]
     },
     "execution_count": 17,
     "metadata": {},
     "output_type": "execute_result"
    }
   ],
   "source": [
    "x = \"global x\"\n",
    "\n",
    "def level_four():\n",
    "    z = \"first outer z\"\n",
    "    def inner(y):\n",
    "        return x, y, z\n",
    "    # print(inner.__globals__)\n",
    "    # Second elemetn contain a reference to z\n",
    "    print(inner.__closure__)\n",
    "    \n",
    "    z = \"second outer z\"\n",
    "    # Second elemetn contain a reference to z\n",
    "    # That actually was defined\n",
    "    print(inner.__closure__)\n",
    "    \n",
    "    return inner(\"y arg\")\n",
    "\n",
    "\n",
    "level_four()"
   ]
  },
  {
   "cell_type": "markdown",
   "metadata": {},
   "source": [
    "# Level five"
   ]
  },
  {
   "cell_type": "code",
   "execution_count": 20,
   "metadata": {},
   "outputs": [
    {
     "data": {
      "text/plain": [
       "('global x', 'y arg', 'outer z 0')"
      ]
     },
     "metadata": {},
     "output_type": "display_data"
    },
    {
     "data": {
      "text/plain": [
       "('global x', 'other y arg', 'outer z 1')"
      ]
     },
     "metadata": {},
     "output_type": "display_data"
    }
   ],
   "source": [
    "x = \"global x\"\n",
    "\n",
    "def level_five(n):\n",
    "    z = f\"outer z {n}\"\n",
    "    \n",
    "    def inner(y):\n",
    "        return x, y, z\n",
    "    \n",
    "    return inner\n",
    "\n",
    "def main():\n",
    "    f = level_five(0)\n",
    "    g = level_five(1)\n",
    "    display(f(\"y arg\"), g(\"other y arg\"))\n",
    "    \n",
    "main()"
   ]
  }
 ],
 "metadata": {
  "kernelspec": {
   "display_name": "Python 3.10.4 ('venv': venv)",
   "language": "python",
   "name": "python3"
  },
  "language_info": {
   "codemirror_mode": {
    "name": "ipython",
    "version": 3
   },
   "file_extension": ".py",
   "mimetype": "text/x-python",
   "name": "python",
   "nbconvert_exporter": "python",
   "pygments_lexer": "ipython3",
   "version": "3.10.4"
  },
  "orig_nbformat": 4,
  "vscode": {
   "interpreter": {
    "hash": "d6e71dfe3b106887211decc9779e90b491303283ca8d1c2d9d0e2004f85f459f"
   }
  }
 },
 "nbformat": 4,
 "nbformat_minor": 2
}
