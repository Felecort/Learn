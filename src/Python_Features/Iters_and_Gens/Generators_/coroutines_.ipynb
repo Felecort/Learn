{
 "cells": [
  {
   "cell_type": "markdown",
   "metadata": {},
   "source": [
    "Генераторы производят значения, а корутины потребляют"
   ]
  },
  {
   "cell_type": "code",
   "execution_count": 8,
   "metadata": {},
   "outputs": [
    {
     "name": "stdout",
     "output_type": "stream",
     "text": [
      "start grep\n",
      "python is sumple!\n"
     ]
    }
   ],
   "source": [
    "\n",
    "def grep(pattern):\n",
    "    print(\"start grep\")\n",
    "    while True:\n",
    "        # Функция замораживается и ждёт ввода данных\n",
    "        # при помощи метода send \n",
    "        line = yield\n",
    "        if pattern in line:\n",
    "            print(line)\n",
    "\n",
    "\n",
    "# Создание корутины\n",
    "g = grep(\"python\")\n",
    "# Запуск корутины. Запускается код функции до \n",
    "# инструкции yield, после чего возвращает \n",
    "# управление в основной поток \n",
    "next(g)\n",
    "# Отправляет данные в функцию в переменную line,\n",
    "# т к именно там прописана конструкция yield\n",
    "g.send(\"Golang is better\")\n",
    "g.send(\"python is sumple!\")\n",
    "\n",
    "# В переменной g зписано состояние функции"
   ]
  },
  {
   "cell_type": "code",
   "execution_count": 9,
   "metadata": {},
   "outputs": [
    {
     "name": "stdout",
     "output_type": "stream",
     "text": [
      "start grep\n",
      "python is sumple!\n",
      "stop grep\n"
     ]
    }
   ],
   "source": [
    "def grep(pattern):\n",
    "    print(\"start grep\")\n",
    "    try:\n",
    "        while True:\n",
    "            line = yield\n",
    "            if pattern in line:\n",
    "                print(line)\n",
    "    # Обработка закрытия \n",
    "    except GeneratorExit:\n",
    "        print(\"stop grep\")\n",
    "        \n",
    "g = grep(\"python\") \n",
    "next(g)\n",
    "g.send(\"Golang is better\")\n",
    "g.send(\"python is sumple!\")\n",
    "# Закрытие корутины(руками), close может быть вызван сборщиком мусора\n",
    "# Исключение генерирутеся в месте, где функция заморозила свою работу \n",
    "g.close()"
   ]
  },
  {
   "cell_type": "code",
   "execution_count": 10,
   "metadata": {},
   "outputs": [
    {
     "name": "stdout",
     "output_type": "stream",
     "text": [
      "start grep\n"
     ]
    },
    {
     "ename": "RuntimeError",
     "evalue": "something wrong",
     "output_type": "error",
     "traceback": [
      "\u001b[1;31m---------------------------------------------------------------------------\u001b[0m",
      "\u001b[1;31mRuntimeError\u001b[0m                              Traceback (most recent call last)",
      "\u001b[1;32m~\\AppData\\Local\\Temp/ipykernel_5964/4294535508.py\u001b[0m in \u001b[0;36m<module>\u001b[1;34m\u001b[0m\n\u001b[0;32m     14\u001b[0m \u001b[0mg\u001b[0m\u001b[1;33m.\u001b[0m\u001b[0msend\u001b[0m\u001b[1;33m(\u001b[0m\u001b[1;34m\"Golang is better\"\u001b[0m\u001b[1;33m)\u001b[0m\u001b[1;33m\u001b[0m\u001b[1;33m\u001b[0m\u001b[0m\n\u001b[0;32m     15\u001b[0m \u001b[1;31m# Отправка исключения в корутину для её завершения\u001b[0m\u001b[1;33m\u001b[0m\u001b[1;33m\u001b[0m\u001b[0m\n\u001b[1;32m---> 16\u001b[1;33m \u001b[0mg\u001b[0m\u001b[1;33m.\u001b[0m\u001b[0mthrow\u001b[0m\u001b[1;33m(\u001b[0m\u001b[0mRuntimeError\u001b[0m\u001b[1;33m,\u001b[0m \u001b[1;34m\"something wrong\"\u001b[0m\u001b[1;33m)\u001b[0m\u001b[1;33m\u001b[0m\u001b[1;33m\u001b[0m\u001b[0m\n\u001b[0m",
      "\u001b[1;32m~\\AppData\\Local\\Temp/ipykernel_5964/4294535508.py\u001b[0m in \u001b[0;36mgrep\u001b[1;34m(pattern)\u001b[0m\n\u001b[0;32m      3\u001b[0m     \u001b[1;32mtry\u001b[0m\u001b[1;33m:\u001b[0m\u001b[1;33m\u001b[0m\u001b[1;33m\u001b[0m\u001b[0m\n\u001b[0;32m      4\u001b[0m         \u001b[1;32mwhile\u001b[0m \u001b[1;32mTrue\u001b[0m\u001b[1;33m:\u001b[0m\u001b[1;33m\u001b[0m\u001b[1;33m\u001b[0m\u001b[0m\n\u001b[1;32m----> 5\u001b[1;33m             \u001b[0mline\u001b[0m \u001b[1;33m=\u001b[0m \u001b[1;32myield\u001b[0m\u001b[1;33m\u001b[0m\u001b[1;33m\u001b[0m\u001b[0m\n\u001b[0m\u001b[0;32m      6\u001b[0m             \u001b[1;32mif\u001b[0m \u001b[0mpattern\u001b[0m \u001b[1;32min\u001b[0m \u001b[0mline\u001b[0m\u001b[1;33m:\u001b[0m\u001b[1;33m\u001b[0m\u001b[1;33m\u001b[0m\u001b[0m\n\u001b[0;32m      7\u001b[0m                 \u001b[0mprint\u001b[0m\u001b[1;33m(\u001b[0m\u001b[0mline\u001b[0m\u001b[1;33m)\u001b[0m\u001b[1;33m\u001b[0m\u001b[1;33m\u001b[0m\u001b[0m\n",
      "\u001b[1;31mRuntimeError\u001b[0m: something wrong"
     ]
    }
   ],
   "source": [
    "def grep(pattern):\n",
    "    print(\"start grep\")\n",
    "    try:\n",
    "        while True:\n",
    "            line = yield\n",
    "            if pattern in line:\n",
    "                print(line)\n",
    "    # Обработка закрытия \n",
    "    except GeneratorExit:\n",
    "        print(\"stop grep\")\n",
    "        \n",
    "g = grep(\"python\") \n",
    "next(g)\n",
    "g.send(\"Golang is better\")\n",
    "# Отправка исключения в корутину для её завершения. Нужно отдельно обрабатывать.\n",
    "# Исключение генерирутеся в месте, где функция заморозила свою работу \n",
    "g.throw(RuntimeError, \"something wrong\")"
   ]
  },
  {
   "cell_type": "code",
   "execution_count": null,
   "metadata": {},
   "outputs": [],
   "source": [
    "# PEP 380 - стандарт для вызова из одних корутин другие\n",
    "def grep(pattern):\n",
    "    print(\"start grep\")\n",
    "    while True:\n",
    "        line = yield\n",
    "        if pattern in line:\n",
    "            print(line)\n",
    "\n",
    "def grep_python_corutine():\n",
    "    g = grep(\"python\")\n",
    "    next(g)\n",
    "    g.send(\"python is the best\")\n",
    "    g.close()\n",
    "    \n",
    "# g не является корутиной. Это обычная функция\n",
    "g = grep_python_corutine()  "
   ]
  },
  {
   "cell_type": "code",
   "execution_count": 14,
   "metadata": {},
   "outputs": [
    {
     "name": "stdout",
     "output_type": "stream",
     "text": [
      "<generator object grep_python_corutine at 0x0000021F10F3E890>\n",
      "start grep\n",
      "python wow!\n"
     ]
    }
   ],
   "source": [
    "# Пример PEP 380. Делегирование вызова функции другой\n",
    "def grep(pattern):\n",
    "    print(\"start grep\")\n",
    "    while True:\n",
    "        line = yield\n",
    "        if pattern in line:\n",
    "            print(line)\n",
    "\n",
    "# Вызов корутины корутиной\n",
    "def grep_python_corutine():\n",
    "    g = grep(\"python\")\n",
    "    yield from g\n",
    "    \n",
    "g = grep_python_corutine()\n",
    "print(g)\n",
    "# \"Запуск\" корутины. Обязательно именно send(None)\n",
    "g.send(None)\n",
    "g.send(\"python wow!\")"
   ]
  },
  {
   "cell_type": "code",
   "execution_count": 17,
   "metadata": {},
   "outputs": [
    {
     "name": "stdout",
     "output_type": "stream",
     "text": [
      "1\n",
      "2\n",
      "3\n",
      "4\n",
      "5\n"
     ]
    }
   ],
   "source": [
    "# В функцию передаём итерабельный объект\n",
    "def chain(x_iter, y_iter):\n",
    "    yield from x_iter\n",
    "    yield from y_iter\n",
    "    \n",
    "# Аналогично chain\n",
    "def the_same_chain(x_iter, y_iter):\n",
    "    for x in x_iter:\n",
    "        yield x\n",
    "        \n",
    "    for y in y_iter:\n",
    "        yield y\n",
    "\n",
    "        \n",
    "a = [1, 2, 3]\n",
    "b = (4, 5)\n",
    "for x in chain(a, b):\n",
    "    print(x)"
   ]
  }
 ],
 "metadata": {
  "interpreter": {
   "hash": "4bfd4ff3fa42f792e9ca4f5ed23a406369bd745bdab3b75153b8c4e6e882a8bd"
  },
  "kernelspec": {
   "display_name": "Python 3.9.7 ('learn_venv')",
   "language": "python",
   "name": "python3"
  },
  "language_info": {
   "codemirror_mode": {
    "name": "ipython",
    "version": 3
   },
   "file_extension": ".py",
   "mimetype": "text/x-python",
   "name": "python",
   "nbconvert_exporter": "python",
   "pygments_lexer": "ipython3",
   "version": "3.9.7"
  },
  "orig_nbformat": 4
 },
 "nbformat": 4,
 "nbformat_minor": 2
}
