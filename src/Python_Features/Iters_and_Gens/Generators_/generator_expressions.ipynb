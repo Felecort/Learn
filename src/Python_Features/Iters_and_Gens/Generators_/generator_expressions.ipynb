{
 "cells": [
  {
   "cell_type": "markdown",
   "metadata": {},
   "source": [
    "# genexpr = (expression for item in collection)  \n"
   ]
  },
  {
   "cell_type": "code",
   "execution_count": null,
   "metadata": {},
   "outputs": [],
   "source": []
  },
  {
   "cell_type": "code",
   "execution_count": 1,
   "metadata": {},
   "outputs": [
    {
     "name": "stdout",
     "output_type": "stream",
     "text": [
      "hello\n",
      "hello\n",
      "hello\n"
     ]
    }
   ],
   "source": [
    "iterator = (\"hello\" for i in range(3))\n",
    "for x in iterator:\n",
    "    print(x)"
   ]
  },
  {
   "cell_type": "markdown",
   "metadata": {},
   "source": []
  },
  {
   "cell_type": "code",
   "execution_count": 13,
   "metadata": {},
   "outputs": [
    {
     "name": "stdout",
     "output_type": "stream",
     "text": [
      "<class 'list'> \t\t ['hello', 'hello', 'hello']\n",
      "<class 'generator'> \t <generator object <genexpr> at 0x000001E6855DF7B0>\n",
      "<class 'set'> \t\t {'hello 0', 'hello 2', 'hello 1'}\n",
      "<class 'dict'> \t\t {'hello 0': 0, 'hello 1': 1, 'hello 2': 2}\n"
     ]
    }
   ],
   "source": [
    "list_comp = [\"hello\" for _ in range(3)]\n",
    "gener_expr = (\"hello\" for _ in range(3))\n",
    "set_comp = {\"hello \" + str(i) for i in range(3)}\n",
    "dict_comp = {\"hello \" + str(i): i for i in range(3)}\n",
    "\n",
    "print(type(list_comp), \"\\t\\t\", list_comp)\n",
    "print(type(gener_expr), \"\\t\", gener_expr)\n",
    "print(type(set_comp), \"\\t\\t\", set_comp)\n",
    "print(type(dict_comp), \"\\t\\t\", dict_comp)"
   ]
  },
  {
   "cell_type": "code",
   "execution_count": 14,
   "metadata": {},
   "outputs": [
    {
     "data": {
      "text/plain": [
       "['hello', 'hello', 'hello']"
      ]
     },
     "execution_count": 14,
     "metadata": {},
     "output_type": "execute_result"
    }
   ],
   "source": [
    "gener_expr = (\"hello\" for _ in range(3))\n",
    "list(gener_expr)"
   ]
  },
  {
   "cell_type": "code",
   "execution_count": null,
   "metadata": {},
   "outputs": [],
   "source": [
    "\"\"\"\n",
    "def generator():\n",
    "    for item in collection:\n",
    "        yield expression\n",
    "        \n",
    "equal to \n",
    "\n",
    "genexpr = (expression for item in collection)\n",
    "\n",
    "\"\"\""
   ]
  },
  {
   "cell_type": "markdown",
   "metadata": {},
   "source": [
    " # inline generator expressions"
   ]
  },
  {
   "cell_type": "code",
   "execution_count": 5,
   "metadata": {},
   "outputs": [
    {
     "name": "stdout",
     "output_type": "stream",
     "text": [
      "Bom dia\n",
      "Bom dia\n",
      "Bom dia\n"
     ]
    }
   ],
   "source": [
    "for i in (\"Bom dia\" for i in range(3)):\n",
    "    print(i)"
   ]
  },
  {
   "cell_type": "code",
   "execution_count": 9,
   "metadata": {},
   "outputs": [
    {
     "data": {
      "text/plain": [
       "45"
      ]
     },
     "execution_count": 9,
     "metadata": {},
     "output_type": "execute_result"
    }
   ],
   "source": [
    "sum((x for x in range(10)))\n",
    "\n",
    "# Equal to\n",
    "\n",
    "sum(x for x in range(10))"
   ]
  },
  {
   "cell_type": "code",
   "execution_count": 20,
   "metadata": {},
   "outputs": [
    {
     "data": {
      "text/plain": [
       "[0, 1, 1, 2, 1, 2, 2, 3]"
      ]
     },
     "execution_count": 20,
     "metadata": {},
     "output_type": "execute_result"
    }
   ],
   "source": [
    "x = (i + j + k for i in range(2)  \\\n",
    "    for j in range(2) \\\n",
    "    for k in range(2) )\n",
    "list(x)"
   ]
  },
  {
   "cell_type": "code",
   "execution_count": null,
   "metadata": {},
   "outputs": [],
   "source": [
    "\"\"\"\n",
    "(expr for x in xs if cond1\n",
    "for y in ys if cond2\n",
    "...\n",
    "for z in zs if condN)\n",
    "\n",
    "equal to\n",
    "\n",
    "for x in xs:\n",
    "    if cond1:\n",
    "        for y in ys:\n",
    "            if cond2:\n",
    "                ...\n",
    "                    for z in zs:\n",
    "                        if condN:\n",
    "                            yield expr\n",
    "\n",
    "\n",
    "\"\"\""
   ]
  }
 ],
 "metadata": {
  "interpreter": {
   "hash": "45438a3404e3c038c1f2b97d13017202803e186f7ec68f5f28fe8ab667dba7ab"
  },
  "kernelspec": {
   "display_name": "Python 3.9.6 64-bit ('venv': venv)",
   "name": "python3"
  },
  "language_info": {
   "codemirror_mode": {
    "name": "ipython",
    "version": 3
   },
   "file_extension": ".py",
   "mimetype": "text/x-python",
   "name": "python",
   "nbconvert_exporter": "python",
   "pygments_lexer": "ipython3",
   "version": "3.9.7"
  },
  "orig_nbformat": 4
 },
 "nbformat": 4,
 "nbformat_minor": 2
}
