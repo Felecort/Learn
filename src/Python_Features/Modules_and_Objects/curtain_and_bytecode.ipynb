{
 "cells": [
  {
   "cell_type": "code",
   "execution_count": 1,
   "metadata": {},
   "outputs": [
    {
     "data": {
      "text/plain": [
       "'Hello, Guido!'"
      ]
     },
     "execution_count": 1,
     "metadata": {},
     "output_type": "execute_result"
    }
   ],
   "source": [
    "def greet(name):\n",
    "    return 'Hello, ' + name + '!'\n",
    "\n",
    "\n",
    "greet('Guido')"
   ]
  },
  {
   "cell_type": "code",
   "execution_count": 7,
   "metadata": {},
   "outputs": [
    {
     "name": "stdout",
     "output_type": "stream",
     "text": [
      "b'd\\x01|\\x00\\x17\\x00d\\x02\\x17\\x00S\\x00'\n",
      "(None, 'Hello, ', '!')\n",
      "('name',)\n"
     ]
    }
   ],
   "source": [
    "print(greet.__code__.co_code,\n",
    "        greet.__code__.co_consts,\n",
    "        greet.__code__.co_varnames,\n",
    "        sep=\"\\n\"\n",
    ")"
   ]
  },
  {
   "cell_type": "code",
   "execution_count": 8,
   "metadata": {},
   "outputs": [],
   "source": [
    "import dis"
   ]
  },
  {
   "cell_type": "code",
   "execution_count": 9,
   "metadata": {},
   "outputs": [
    {
     "name": "stdout",
     "output_type": "stream",
     "text": [
      "  2           0 LOAD_CONST               1 ('Hello, ')\n",
      "              2 LOAD_FAST                0 (name)\n",
      "              4 BINARY_ADD\n",
      "              6 LOAD_CONST               2 ('!')\n",
      "              8 BINARY_ADD\n",
      "             10 RETURN_VALUE\n"
     ]
    }
   ],
   "source": [
    "dis.dis(greet)"
   ]
  }
 ],
 "metadata": {
  "interpreter": {
   "hash": "6cd4844cba16666f5ec57332c26b12b0883bde970a37dc64d8faf363025cf164"
  },
  "kernelspec": {
   "display_name": "Python 3.9.7 64-bit ('venv_Learn': conda)",
   "language": "python",
   "name": "python3"
  },
  "language_info": {
   "codemirror_mode": {
    "name": "ipython",
    "version": 3
   },
   "file_extension": ".py",
   "mimetype": "text/x-python",
   "name": "python",
   "nbconvert_exporter": "python",
   "pygments_lexer": "ipython3",
   "version": "3.9.7"
  },
  "orig_nbformat": 4
 },
 "nbformat": 4,
 "nbformat_minor": 2
}
