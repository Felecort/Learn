{
 "cells": [
  {
   "cell_type": "code",
   "execution_count": 13,
   "metadata": {},
   "outputs": [],
   "source": [
    "class Event:\n",
    "    def __init__(self, description, event_date):\n",
    "        self.description = description\n",
    "        self.event_date = event_date\n",
    "        \n",
    "    def __str__(self):\n",
    "        return f\"Event \\\"{self.description}\\\" at {self.event_date}\"\n",
    "    "
   ]
  },
  {
   "cell_type": "code",
   "execution_count": 18,
   "metadata": {},
   "outputs": [
    {
     "name": "stdout",
     "output_type": "stream",
     "text": [
      "Event \"дедлайн по петухону\" at 2022-03-21\n"
     ]
    }
   ],
   "source": [
    "from datetime import date\n",
    "\n",
    "event_description = \"дедлайн по петухону\"\n",
    "event_date = date.today()\n",
    "\n",
    "event = Event(event_description, event_date)\n",
    "print(event)"
   ]
  },
  {
   "cell_type": "code",
   "execution_count": 15,
   "metadata": {},
   "outputs": [],
   "source": [
    "def extract_description(user_str):\n",
    "    return \"ЧМ по футболу\"\n",
    "\n",
    "\n",
    "def extract_date(user_str):\n",
    "    return date(2018, 6, 14)\n",
    "\n",
    "class Event:\n",
    "    def __init__(self, description, event_date):\n",
    "        self.description = description\n",
    "        self.event_date = event_date\n",
    "        \n",
    "    def __str__(self):\n",
    "        return f\"Event \\\"{self.description}\\\" at {self.event_date}\"\n",
    "    \n",
    "    # Принимает на вход не экземпляр класса, а сам класс (cls)\n",
    "    # Внутри которого classmethod и описание\n",
    "    @classmethod\n",
    "    def from_str(cls, user_input):\n",
    "        descriprion = extract_description(user_input)\n",
    "        date = extract_date(user_input)\n",
    "        # На выходе экземпляр класса Event\n",
    "        return cls(descriprion, date)\n",
    "    "
   ]
  },
  {
   "cell_type": "code",
   "execution_count": 16,
   "metadata": {},
   "outputs": [
    {
     "name": "stdout",
     "output_type": "stream",
     "text": [
      "Event \"ЧМ по футболу\" at 2018-06-14\n"
     ]
    }
   ],
   "source": [
    "event = Event.from_str(\"Добавить в календарь событие ЧМ на 14 июня 2018\")\n",
    "print(event)"
   ]
  },
  {
   "cell_type": "code",
   "execution_count": null,
   "metadata": {},
   "outputs": [],
   "source": [
    "class ClassMethod:\n",
    "    def __init__(self, func):\n",
    "        self.func = func\n",
    "    \n",
    "    def __get__(self, obj, obj_type=None):\n",
    "        if obj_type is None:\n",
    "            obj_type = type(obj)\n",
    "            \n",
    "        def new_func(*args, **kwargs):\n",
    "            return self.func(obj_type, *args, **kwargs)\n",
    "        \n",
    "        return new_func"
   ]
  }
 ],
 "metadata": {
  "interpreter": {
   "hash": "4bfd4ff3fa42f792e9ca4f5ed23a406369bd745bdab3b75153b8c4e6e882a8bd"
  },
  "kernelspec": {
   "display_name": "Python 3.9.7 ('learn_venv')",
   "language": "python",
   "name": "python3"
  },
  "language_info": {
   "codemirror_mode": {
    "name": "ipython",
    "version": 3
   },
   "file_extension": ".py",
   "mimetype": "text/x-python",
   "name": "python",
   "nbconvert_exporter": "python",
   "pygments_lexer": "ipython3",
   "version": "3.9.7"
  },
  "orig_nbformat": 4
 },
 "nbformat": 4,
 "nbformat_minor": 2
}
