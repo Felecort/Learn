{
 "cells": [
  {
   "cell_type": "code",
   "execution_count": 5,
   "metadata": {},
   "outputs": [],
   "source": [
    "class Human:\n",
    "    def __init__(self, name, age=20):\n",
    "        self.name = name\n",
    "        self.age = age\n",
    "\n",
    "    # Вопрос организации кода\n",
    "    # Не оперирует ни с экземпляром, ни с самим классом\n",
    "    # Нет ни self, ни cls\n",
    "    @staticmethod\n",
    "    def is_age_valid(age):\n",
    "        return 0 <= age < 150"
   ]
  },
  {
   "cell_type": "code",
   "execution_count": 6,
   "metadata": {},
   "outputs": [
    {
     "data": {
      "text/plain": [
       "True"
      ]
     },
     "execution_count": 6,
     "metadata": {},
     "output_type": "execute_result"
    }
   ],
   "source": [
    "Human.is_age_valid(30)"
   ]
  },
  {
   "cell_type": "code",
   "execution_count": 7,
   "metadata": {},
   "outputs": [
    {
     "data": {
      "text/plain": [
       "False"
      ]
     },
     "execution_count": 7,
     "metadata": {},
     "output_type": "execute_result"
    }
   ],
   "source": [
    "bob = Human(\"Bob\", 20)\n",
    "bob.is_age_valid(456)"
   ]
  },
  {
   "cell_type": "code",
   "execution_count": null,
   "metadata": {},
   "outputs": [],
   "source": [
    "class StaticMethod:\n",
    "    def __init__(self, func):\n",
    "        self.func = func\n",
    "        \n",
    "    def __get__(self, obj, obj_type=None):\n",
    "        return self.func"
   ]
  }
 ],
 "metadata": {
  "interpreter": {
   "hash": "4bfd4ff3fa42f792e9ca4f5ed23a406369bd745bdab3b75153b8c4e6e882a8bd"
  },
  "kernelspec": {
   "display_name": "Python 3.9.7 ('learn_venv')",
   "language": "python",
   "name": "python3"
  },
  "language_info": {
   "codemirror_mode": {
    "name": "ipython",
    "version": 3
   },
   "file_extension": ".py",
   "mimetype": "text/x-python",
   "name": "python",
   "nbconvert_exporter": "python",
   "pygments_lexer": "ipython3",
   "version": "3.9.7"
  },
  "orig_nbformat": 4
 },
 "nbformat": 4,
 "nbformat_minor": 2
}
