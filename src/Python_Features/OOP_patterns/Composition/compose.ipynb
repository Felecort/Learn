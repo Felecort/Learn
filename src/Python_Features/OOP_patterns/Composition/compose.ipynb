{
 "cells": [
  {
   "cell_type": "code",
   "execution_count": 8,
   "metadata": {},
   "outputs": [],
   "source": [
    "import json"
   ]
  },
  {
   "cell_type": "code",
   "execution_count": 9,
   "metadata": {},
   "outputs": [],
   "source": [
    "class Pet:\n",
    "    def __init__(self, name):\n",
    "        self.name = name\n",
    "        \n",
    "class Dog(Pet):\n",
    "    def __init__(self, name, breed=None):\n",
    "        super().__init__(name)\n",
    "        self.breed = breed"
   ]
  },
  {
   "cell_type": "code",
   "execution_count": 17,
   "metadata": {},
   "outputs": [],
   "source": [
    "class PetExport:\n",
    "    def export(self, dog):\n",
    "        raise NotImplementedError\n",
    "    \n",
    "class ExportJSON(PetExport):\n",
    "    def export(self, dog):\n",
    "        return json.dumps({\n",
    "            \"name\": dog.name,\n",
    "            \"breed\": dog.breed\n",
    "        })\n",
    "    \n",
    "class ExportXML(PetExport):\n",
    "    def export(self, dog):\n",
    "        return f\"\"\"<?xml version \"1.0\" encoding=\"utf-8\"?>\n",
    "<dog>\n",
    "    <name>{dog.name}</name>\n",
    "    <breed>{dog.breed}</breed>\n",
    "</dog>\n",
    "    \"\"\"\n",
    "    \n",
    "class ExDog(Dog):\n",
    "    def __init__(self, name, breed=None, exporter=None):\n",
    "        super().__init__(name, breed=None)\n",
    "        self._exporter = exporter or ExportJSON()\n",
    "        if not isinstance(self._exporter, PetExport):\n",
    "            raise ValueError(\"Bad expression\", exporter)\n",
    "        \n",
    "    def export(self):\n",
    "        return self._exporter.export(self)"
   ]
  },
  {
   "cell_type": "code",
   "execution_count": 18,
   "metadata": {},
   "outputs": [
    {
     "data": {
      "text/plain": [
       "'<?xml version \"1.0\" encoding=\"utf-8\"?>\\n<dog>\\n    <name>Шарик</name>\\n    <breed>None</breed>\\n</dog>\\n    '"
      ]
     },
     "execution_count": 18,
     "metadata": {},
     "output_type": "execute_result"
    }
   ],
   "source": [
    "dog = ExDog(\"Шарик\", \"Дворняга\", exporter=ExportXML())\n",
    "dog.export()"
   ]
  },
  {
   "cell_type": "code",
   "execution_count": 19,
   "metadata": {},
   "outputs": [
    {
     "data": {
      "text/plain": [
       "'{\"name\": \"\\\\u0422\\\\u0443\\\\u0437\\\\u0438\\\\u043a\", \"breed\": null}'"
      ]
     },
     "execution_count": 19,
     "metadata": {},
     "output_type": "execute_result"
    }
   ],
   "source": [
    "dog2 = ExDog(\"Тузик\", \"Тертерьер\", exporter=ExportJSON())\n",
    "dog2.export()"
   ]
  }
 ],
 "metadata": {
  "interpreter": {
   "hash": "14c7983801e14a91493c6a3ee1d54b6b657f90fc70b71d012a74244164ccd1d0"
  },
  "kernelspec": {
   "display_name": "Python 3.10.2 ('ml_venv')",
   "language": "python",
   "name": "python3"
  },
  "language_info": {
   "codemirror_mode": {
    "name": "ipython",
    "version": 3
   },
   "file_extension": ".py",
   "mimetype": "text/x-python",
   "name": "python",
   "nbconvert_exporter": "python",
   "pygments_lexer": "ipython3",
   "version": "3.10.2"
  },
  "orig_nbformat": 4
 },
 "nbformat": 4,
 "nbformat_minor": 2
}
