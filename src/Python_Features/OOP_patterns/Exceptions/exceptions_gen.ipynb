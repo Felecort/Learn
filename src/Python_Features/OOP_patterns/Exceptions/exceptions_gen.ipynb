{
 "cells": [
  {
   "cell_type": "code",
   "execution_count": null,
   "metadata": {},
   "outputs": [],
   "source": [
    "import traceback"
   ]
  },
  {
   "cell_type": "code",
   "execution_count": null,
   "metadata": {},
   "outputs": [],
   "source": [
    "try:\n",
    "    x = int(input())\n",
    "    if x == 0:\n",
    "        raise ZeroDivisionError(\"x = 0\", \"error\")\n",
    "except ZeroDivisionError as err:\n",
    "    print(err.args[0], err.args[1])\n",
    "    print(traceback.print_exc())\n"
   ]
  },
  {
   "cell_type": "code",
   "execution_count": null,
   "metadata": {},
   "outputs": [],
   "source": [
    "try:\n",
    "    raw = input(\"Input number\")\n",
    "    if not raw.isdigit():\n",
    "        raise ValueError(\"Bad number\", raw)\n",
    "except ValueError as err:\n",
    "    print(\"Error\", err.args[0], err.args[1])\n",
    "    raise TypeError(\"Error\") from err"
   ]
  },
  {
   "cell_type": "code",
   "execution_count": null,
   "metadata": {},
   "outputs": [],
   "source": [
    "print(issubclass(KeyError, LookupError))\n",
    "\n",
    "while True:\n",
    "    try:\n",
    "        x = int(input(\"input value \"))\n",
    "        # break\n",
    "    except ValueError:\n",
    "        print(\"Uncorrect value\")\n",
    "    except KeyboardInterrupt:\n",
    "        print(\"Exit...\")\n",
    "        break\n",
    "    # Несколько исключений\n",
    "    except (ValueError, KeyError):\n",
    "        break\n",
    "    # Никаких исключений\n",
    "    else:\n",
    "        print(\"No errors\")\n",
    "    # Выполняется всегда. Вообще всегда\n",
    "    finally:\n",
    "        print(\"Finally многолетний дебил\")"
   ]
  },
  {
   "cell_type": "markdown",
   "metadata": {},
   "source": [
    "Assert - исключения для программиста, обрабатывать их не нужно  \n",
    "\n",
    "ассерты можно выключить флагом -O"
   ]
  },
  {
   "cell_type": "code",
   "execution_count": 1,
   "metadata": {},
   "outputs": [],
   "source": [
    "assert True"
   ]
  },
  {
   "cell_type": "code",
   "execution_count": 4,
   "metadata": {},
   "outputs": [
    {
     "ename": "AssertionError",
     "evalue": "one doesn't equal zero",
     "output_type": "error",
     "traceback": [
      "\u001b[1;31m---------------------------------------------------------------------------\u001b[0m",
      "\u001b[1;31mAssertionError\u001b[0m                            Traceback (most recent call last)",
      "\u001b[1;32m~\\AppData\\Local\\Temp/ipykernel_7380/3326453274.py\u001b[0m in \u001b[0;36m<module>\u001b[1;34m\u001b[0m\n\u001b[1;32m----> 1\u001b[1;33m \u001b[1;32massert\u001b[0m \u001b[1;36m1\u001b[0m \u001b[1;33m==\u001b[0m \u001b[1;36m0\u001b[0m\u001b[1;33m,\u001b[0m \u001b[1;34m\"one doesn't equal zero\"\u001b[0m\u001b[1;33m\u001b[0m\u001b[1;33m\u001b[0m\u001b[0m\n\u001b[0m",
      "\u001b[1;31mAssertionError\u001b[0m: one doesn't equal zero"
     ]
    }
   ],
   "source": [
    "assert 1 == 0, \"one doesn't equal zero\""
   ]
  },
  {
   "cell_type": "code",
   "execution_count": null,
   "metadata": {},
   "outputs": [],
   "source": [
    "import requests\n",
    "import sys"
   ]
  },
  {
   "cell_type": "code",
   "execution_count": null,
   "metadata": {},
   "outputs": [],
   "source": [
    "requests.__file__"
   ]
  },
  {
   "cell_type": "code",
   "execution_count": null,
   "metadata": {},
   "outputs": [],
   "source": [
    "#url = sys.argv[1] # Адрес в виде аргумента\n",
    "url = \"https://github.com/Felecort\"\n",
    "try:\n",
    "    response = requests.get(url, timeout=30)\n",
    "    response.raise_for_status()\n",
    "except requests.Timeout:\n",
    "    print(\"Timeout... url: \", url)\n",
    "except requests.HTTPError as err:\n",
    "    code = err.response.status_code\n",
    "    print(f\"code {code}\")\n",
    "except requests.RequestException:\n",
    "    print(\"download exception\")\n",
    "else:\n",
    "    print(response.content)"
   ]
  }
 ],
 "metadata": {
  "interpreter": {
   "hash": "4bfd4ff3fa42f792e9ca4f5ed23a406369bd745bdab3b75153b8c4e6e882a8bd"
  },
  "kernelspec": {
   "display_name": "Python 3.9.7 ('learn_venv')",
   "language": "python",
   "name": "python3"
  },
  "language_info": {
   "codemirror_mode": {
    "name": "ipython",
    "version": 3
   },
   "file_extension": ".py",
   "mimetype": "text/x-python",
   "name": "python",
   "nbconvert_exporter": "python",
   "pygments_lexer": "ipython3",
   "version": "3.9.7"
  },
  "orig_nbformat": 4
 },
 "nbformat": 4,
 "nbformat_minor": 2
}
