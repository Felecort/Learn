{
 "cells": [
  {
   "cell_type": "code",
   "execution_count": 2,
   "metadata": {},
   "outputs": [],
   "source": [
    "with open(\"access_log.log\", \"a\") as f:\n",
    "    f.write(\"New Access\\n\")\n",
    "    "
   ]
  },
  {
   "cell_type": "code",
   "execution_count": 9,
   "metadata": {},
   "outputs": [],
   "source": [
    "# Собственный контекстный менеджер\n",
    "# С маленькой буквы, потому что это контекстный менеджер\n",
    "class open_file:\n",
    "    def __init__(self, filename, mode):\n",
    "        # Возвращает, что присваивается в поле with *smth*\n",
    "        self.f = open(filename, mode)\n",
    "    \n",
    "    # Начало \n",
    "    def __enter__(self):\n",
    "        # Возвращает, что присваивается в поле as *smth*\n",
    "        return self.f\n",
    "    \n",
    "    # Выход\n",
    "    def __exit__(self, *args):\n",
    "        self.f.close()\n",
    "        \n",
    "        \n",
    "with open_file(\"test.log\", \"w\") as f:\n",
    "    f.write(\"Inside 'open file' context manager\")\n",
    "    \n",
    "with open_file(\"test.log\", \"r\") as f:\n",
    "    f.read()"
   ]
  },
  {
   "cell_type": "code",
   "execution_count": 14,
   "metadata": {},
   "outputs": [
    {
     "name": "stdout",
     "output_type": "stream",
     "text": [
      "Nothing happened\n"
     ]
    }
   ],
   "source": [
    "# Обработка исключений (подавление исключений)\n",
    "class suppress_exception:\n",
    "    def __init__(self, exc_type):\n",
    "        self.exc_type = exc_type\n",
    "        \n",
    "    def __enter__(self):\n",
    "        return\n",
    "    \n",
    "    def __exit__(self, exc_type, exc_value, traceback):\n",
    "        if exc_type == self.exc_type:\n",
    "            print(\"Nothing happened\")\n",
    "            # Не будет ошибки\n",
    "            return True\n",
    "            # Выкинется исключение \n",
    "            # return False *or smth similar* \n",
    "        \n",
    "        \n",
    "with suppress_exception(ZeroDivisionError):\n",
    "    number = 1 / 0"
   ]
  },
  {
   "cell_type": "code",
   "execution_count": 15,
   "metadata": {},
   "outputs": [],
   "source": [
    "# Аналогично предыдущему примеру\n",
    "import contextlib\n",
    "\n",
    "with contextlib.suppress(ValueError):\n",
    "    raise ValueError"
   ]
  },
  {
   "cell_type": "code",
   "execution_count": 22,
   "metadata": {},
   "outputs": [
    {
     "name": "stdout",
     "output_type": "stream",
     "text": [
      "1.0006165504455566\n",
      "Elapsed Time:  2.001426935195923\n"
     ]
    }
   ],
   "source": [
    "# Timer\n",
    "import time\n",
    "\n",
    "\n",
    "class timer:\n",
    "    def __init__(self):\n",
    "        self.start = time.time()\n",
    "    \n",
    "    def current_time(self):\n",
    "        return time.time() - self.start\n",
    "    \n",
    "    def __enter__(self):\n",
    "        return self\n",
    "    \n",
    "    def __exit__(self, *args):\n",
    "        print(\"Elapsed Time: \", self.current_time())\n",
    "    \n",
    "with timer() as t:\n",
    "    time.sleep(1)\n",
    "    print(t.current_time())\n",
    "    time.sleep(1)"
   ]
  }
 ],
 "metadata": {
  "interpreter": {
   "hash": "4bfd4ff3fa42f792e9ca4f5ed23a406369bd745bdab3b75153b8c4e6e882a8bd"
  },
  "kernelspec": {
   "display_name": "Python 3.9.7 ('learn_venv')",
   "language": "python",
   "name": "python3"
  },
  "language_info": {
   "codemirror_mode": {
    "name": "ipython",
    "version": 3
   },
   "file_extension": ".py",
   "mimetype": "text/x-python",
   "name": "python",
   "nbconvert_exporter": "python",
   "pygments_lexer": "ipython3",
   "version": "3.9.7"
  },
  "orig_nbformat": 4
 },
 "nbformat": 4,
 "nbformat_minor": 2
}
