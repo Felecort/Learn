{
 "cells": [
  {
   "cell_type": "code",
   "execution_count": 1,
   "metadata": {},
   "outputs": [
    {
     "name": "stdout",
     "output_type": "stream",
     "text": [
      "Get\n",
      "Set\n",
      "Delete\n"
     ]
    }
   ],
   "source": [
    "class Descriptor:\n",
    "    def __get__(self, obj, obj_type):\n",
    "        print(\"Get\")\n",
    "        \n",
    "    def __set__(self, obj, value):\n",
    "        print(\"Set\")\n",
    "        \n",
    "    def __delete__(self, obj):\n",
    "        print(\"Delete\")\n",
    "        \n",
    "\n",
    "class Class:\n",
    "    # attr - и есть дескриптор(переопределено поведение)\n",
    "    attr = Descriptor()\n",
    "    \n",
    "instance = Class()\n",
    "\n",
    "instance.attr\n",
    "instance.attr = 10\n",
    "del instance.attr"
   ]
  },
  {
   "cell_type": "code",
   "execution_count": 2,
   "metadata": {},
   "outputs": [
    {
     "name": "stdout",
     "output_type": "stream",
     "text": [
      "100\n"
     ]
    }
   ],
   "source": [
    "class Value:\n",
    "    def __init__(self):\n",
    "        self.value = None\n",
    "        \n",
    "    @staticmethod\n",
    "    def _prepare_value(value):\n",
    "        return value * 10\n",
    "    \n",
    "    def __get__(self, obj, value):\n",
    "        return self.value\n",
    "    \n",
    "    def __set__(self, obj, value):\n",
    "        self.value = self._prepare_value(value)\n",
    "\n",
    "\n",
    "class Class:\n",
    "    attr = Value()\n",
    "    \n",
    "instance = Class()\n",
    "instance.attr = 10\n",
    "\n",
    "print(instance.attr)"
   ]
  },
  {
   "cell_type": "markdown",
   "metadata": {},
   "source": [
    "Если переопределён get, то это None data descriptor, если set или delete, то data descriptor  "
   ]
  },
  {
   "cell_type": "code",
   "execution_count": 7,
   "metadata": {},
   "outputs": [],
   "source": [
    "# Пример: логирование \n",
    "class ImportantValue:\n",
    "    def __init__(self, amount):\n",
    "        self.amount = amount\n",
    "    \n",
    "    def __get__(self, obj, obj_type):\n",
    "        return self.amount\n",
    "\n",
    "    def __set__(self, obj, value):\n",
    "        with open(\"log.txt\", \"a\") as f:\n",
    "            f.write(str(value) + \"\\n\")\n",
    "        self.amount = value\n",
    "    \n",
    "class Account:\n",
    "    amount = ImportantValue(100)\n",
    "    \n",
    "bob_account = Account()\n",
    "bob_account.amount = 158"
   ]
  },
  {
   "cell_type": "markdown",
   "metadata": {},
   "source": [
    "Функции и методы реализованы при помощи дескрипторов"
   ]
  },
  {
   "cell_type": "code",
   "execution_count": 8,
   "metadata": {},
   "outputs": [
    {
     "name": "stdout",
     "output_type": "stream",
     "text": [
      "<bound method Class.method of <__main__.Class object at 0x0000019B285B2400>>\n",
      "<function Class.method at 0x0000019B291F2280>\n"
     ]
    }
   ],
   "source": [
    "# Одни и те же объхекты возвращают разные значения \n",
    "# в зависимости от того, как к ним обращаться. \n",
    "# Это и есть поведение дескрипторов\n",
    "class Class:\n",
    "    def method(self):\n",
    "        pass\n",
    "    \n",
    "obj = Class()\n",
    "\n",
    "# Bound method - Метод привяза к \n",
    "# объекту (obj) (экземпляру класса)\n",
    "print(obj.method)\n",
    "\n",
    "# Unbound method  - просто функция\n",
    "print(Class.method)\n"
   ]
  },
  {
   "cell_type": "code",
   "execution_count": 9,
   "metadata": {},
   "outputs": [
    {
     "name": "stdout",
     "output_type": "stream",
     "text": [
      "Amy Jones\n",
      "<property object at 0x0000019B291F04F0>\n"
     ]
    }
   ],
   "source": [
    "# property реализовано при помощи дескрипторов\n",
    "class User:\n",
    "    def __init__(self, first_name, last_name):\n",
    "        self.first_name = first_name\n",
    "        self.last_name = last_name\n",
    "    \n",
    "    # Возвращает значение без вызова (скобочек)\n",
    "    @property\n",
    "    def full_name(self):\n",
    "        return f\"{self.first_name} {self.last_name}\"\n",
    "    \n",
    "amy = User(\"Amy\", \"Jones\")\n",
    "\n",
    "print(amy.full_name)\n",
    "print(User.full_name)"
   ]
  },
  {
   "cell_type": "code",
   "execution_count": null,
   "metadata": {},
   "outputs": [],
   "source": [
    "# Свой класс property\n",
    "class Property:\n",
    "    def __init__(self, getter):\n",
    "        self.getter = getter\n",
    "        \n",
    "    def __get__(self, obj, obj_type=None):\n",
    "        # Если вызван от класса\n",
    "        if obj is None:\n",
    "            return self\n",
    "        # Если вызван от аттрибута с объектом\n",
    "        return self.getter(obj)"
   ]
  },
  {
   "cell_type": "code",
   "execution_count": 11,
   "metadata": {},
   "outputs": [],
   "source": [
    "# Аналогично про class/static method\n",
    "class StaticMethod:\n",
    "    def __init__(self, func):\n",
    "        self.func = func\n",
    "        \n",
    "    def __get__(self, obj, obj_type=None):\n",
    "        return self.func\n",
    "    \n",
    "    \n",
    "class ClassMethod:\n",
    "    def __init__(self, func):\n",
    "        self.func = func\n",
    "    \n",
    "    def __get__(self, obj, obj_type=None):\n",
    "        if obj_type is None:\n",
    "            obj_type = type(obj)\n",
    "            \n",
    "        def new_func(*args, **kwargs):\n",
    "            return self.func(obj_type, *args, **kwargs)\n",
    "        \n",
    "        return new_func"
   ]
  },
  {
   "cell_type": "code",
   "execution_count": null,
   "metadata": {},
   "outputs": [],
   "source": [
    "# __slots__ реализовано при помощи дескрипторов\n",
    "class Class:\n",
    "    __slots__ = [\"anakin\"]\n",
    "    \n",
    "    def __init__(self):\n",
    "        self.anakin = \"The chosen one\"\n",
    "        \n",
    "obj = Class()\n",
    "\n",
    "# Will be exaption\n",
    "obj.luke = \"The chosen too\""
   ]
  }
 ],
 "metadata": {
  "interpreter": {
   "hash": "4bfd4ff3fa42f792e9ca4f5ed23a406369bd745bdab3b75153b8c4e6e882a8bd"
  },
  "kernelspec": {
   "display_name": "Python 3.9.7 ('learn_venv')",
   "language": "python",
   "name": "python3"
  },
  "language_info": {
   "codemirror_mode": {
    "name": "ipython",
    "version": 3
   },
   "file_extension": ".py",
   "mimetype": "text/x-python",
   "name": "python",
   "nbconvert_exporter": "python",
   "pygments_lexer": "ipython3",
   "version": "3.9.7"
  },
  "orig_nbformat": 4
 },
 "nbformat": 4,
 "nbformat_minor": 2
}
