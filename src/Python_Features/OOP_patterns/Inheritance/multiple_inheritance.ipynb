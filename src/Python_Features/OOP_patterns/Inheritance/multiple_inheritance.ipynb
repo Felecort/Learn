{
 "cells": [
  {
   "cell_type": "code",
   "execution_count": 1,
   "metadata": {},
   "outputs": [],
   "source": [
    "class Pet:\n",
    "    def __init__(self, name):\n",
    "        self.name = name\n",
    "        \n",
    "class Dog(Pet):\n",
    "    def __init__(self, name, breed=None):\n",
    "        super().__init__(name)\n",
    "        self.breed = breed\n",
    "        \n",
    "    def say(self):\n",
    "        return f\"{self.name} waw\""
   ]
  },
  {
   "cell_type": "code",
   "execution_count": 2,
   "metadata": {},
   "outputs": [],
   "source": [
    "import json"
   ]
  },
  {
   "cell_type": "code",
   "execution_count": 3,
   "metadata": {},
   "outputs": [],
   "source": [
    "class ExportJSON:\n",
    "    def to_json(self):\n",
    "        return json.dumps({\n",
    "            \"name\": self.name,\n",
    "            \"breed\": self.breed\n",
    "        })\n",
    "        \n",
    "class ExDog(Dog, ExportJSON):\n",
    "    pass"
   ]
  },
  {
   "cell_type": "code",
   "execution_count": 5,
   "metadata": {},
   "outputs": [
    {
     "name": "stdout",
     "output_type": "stream",
     "text": [
      "{\"name\": \"\\u0411\\u0435\\u043b\\u043a\\u0430\", \"breed\": \"\\u0414\\u0432\\u043e\\u0440\\u043d\\u044f\\u0433\\u0430\"}\n"
     ]
    }
   ],
   "source": [
    "dog = ExDog(\"Белка\", \"Дворняга\")\n",
    "print(dog.to_json())"
   ]
  },
  {
   "cell_type": "code",
   "execution_count": 7,
   "metadata": {},
   "outputs": [
    {
     "name": "stdout",
     "output_type": "stream",
     "text": [
      "True True False\n"
     ]
    }
   ],
   "source": [
    "print(issubclass(Dog, object),\n",
    "      issubclass(Dog, Pet),\n",
    "      isinstance(Pet, Dog))"
   ]
  },
  {
   "cell_type": "code",
   "execution_count": 8,
   "metadata": {},
   "outputs": [
    {
     "data": {
      "text/plain": [
       "(__main__.ExDog, __main__.Dog, __main__.Pet, __main__.ExportJSON, object)"
      ]
     },
     "execution_count": 8,
     "metadata": {},
     "output_type": "execute_result"
    }
   ],
   "source": [
    "#MRO - Method Resolution Order Порядок поиска нужного\n",
    "# Атрибута среди данных при множественном наследовании\n",
    "# Линеаризация класса\n",
    "ExDog.__mro__"
   ]
  },
  {
   "cell_type": "code",
   "execution_count": 9,
   "metadata": {},
   "outputs": [],
   "source": [
    "class ExDog(Dog, ExportJSON):\n",
    "    def __init__(self, name, breed=None):\n",
    "        # вызов метода по MRO\n",
    "        super().__init__(name, breed)\n",
    "        # Равносильно\n",
    "        # super(ExDog, self).__init__(name)\n",
    "        \n",
    "class WoolenDog(Dog, ExportJSON):\n",
    "    def __init__(self, name, breed=None):\n",
    "        super(Dog, self).__init__(name)\n",
    "        self.breed = f\"шерстянная собака {breed}\"\n",
    "        "
   ]
  },
  {
   "cell_type": "code",
   "execution_count": 10,
   "metadata": {},
   "outputs": [
    {
     "name": "stdout",
     "output_type": "stream",
     "text": [
      "шерстянная собака Такса\n"
     ]
    }
   ],
   "source": [
    "dog = WoolenDog(\"Жучка\", breed=\"Такса\")\n",
    "print(dog.breed)"
   ]
  }
 ],
 "metadata": {
  "interpreter": {
   "hash": "14c7983801e14a91493c6a3ee1d54b6b657f90fc70b71d012a74244164ccd1d0"
  },
  "kernelspec": {
   "display_name": "Python 3.10.2 ('ml_venv')",
   "language": "python",
   "name": "python3"
  },
  "language_info": {
   "codemirror_mode": {
    "name": "ipython",
    "version": 3
   },
   "file_extension": ".py",
   "mimetype": "text/x-python",
   "name": "python",
   "nbconvert_exporter": "python",
   "pygments_lexer": "ipython3",
   "version": "3.10.2"
  },
  "orig_nbformat": 4
 },
 "nbformat": 4,
 "nbformat_minor": 2
}
