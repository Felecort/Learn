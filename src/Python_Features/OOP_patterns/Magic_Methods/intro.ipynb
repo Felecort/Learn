{
 "cells": [
  {
   "cell_type": "code",
   "execution_count": 6,
   "metadata": {},
   "outputs": [
    {
     "data": {
      "text/plain": [
       "True"
      ]
     },
     "execution_count": 6,
     "metadata": {},
     "output_type": "execute_result"
    }
   ],
   "source": [
    "class Singleton:\n",
    "    \"\"\"Позволяет создавать лишь один объект от \n",
    "    данноего класса\"\"\"\n",
    "    instance = None\n",
    "    \n",
    "    # Метод отвечает за то, что происходит в момент \n",
    "    # создания объекта классса. Возвращает созданный \n",
    "    # объект класса\n",
    "    def __new__(cls):\n",
    "        if cls.instance is None:\n",
    "            cls.instance = super().__new__(cls)\n",
    "        return cls.instance\n",
    "\n",
    "\n",
    "a = Singleton()\n",
    "b = Singleton()\n",
    "\n",
    "a is b"
   ]
  },
  {
   "cell_type": "code",
   "execution_count": 7,
   "metadata": {},
   "outputs": [],
   "source": [
    "class User:\n",
    "    def __init__(self, name, email):\n",
    "        self.name = name\n",
    "        self.email = email\n",
    "        \n",
    "    # Возвращает человекочитаемое описание \n",
    "    # класса при вызове print()\n",
    "    def __str__(self):\n",
    "        return f\"{self.name}, {self.email}\"\n",
    "    \n",
    "    # Хэш эклемпляра класса\n",
    "    def __hash__(self):\n",
    "        return hash(self.email)\n",
    "    \n",
    "    # Спавнение объектов \n",
    "    def __eq__(self, obj):\n",
    "        return self.email == obj.email"
   ]
  },
  {
   "cell_type": "code",
   "execution_count": null,
   "metadata": {},
   "outputs": [],
   "source": [
    "class Researcher:\n",
    "    \n",
    "    # Метод определяет поведение, при котором \n",
    "    # аттрибут, который мы хотим получить, не найден,\n",
    "    # (Видимо, когда вылезает Exception) \n",
    "    def __getattr__(self, name):\n",
    "        return \"Nothing found\"\n",
    "    \n",
    "    # Вызывается всегда в любом случае. В данном \n",
    "    # прмере, вне зависимости от тог, к какому \n",
    "    # аттрибуты мы обращаемся, будет выводится одна \n",
    "    # и та же строка\n",
    "    def __getattribute__(self, name):\n",
    "        return \"nope\""
   ]
  },
  {
   "cell_type": "code",
   "execution_count": null,
   "metadata": {},
   "outputs": [],
   "source": [
    "class Researcher:\n",
    "    def __getattr__(self, name):\n",
    "        return \"Nothing found\"\n",
    "    \n",
    "    def __getattribute__(self, name):\n",
    "        print(f\"Looking for {name}...\")\n",
    "        return object.__getattribute__(self, name)\n",
    "    \n",
    "obj = Researcher()\n",
    "\n",
    "print(obj.attr)"
   ]
  },
  {
   "cell_type": "code",
   "execution_count": null,
   "metadata": {},
   "outputs": [],
   "source": [
    "class Ignorant:\n",
    "    \n",
    "    def __init__(self):\n",
    "        # В данном случае поля х не будет, потому\n",
    "        # что функция __setattr__ не создаёт новые аттрибуты\n",
    "        self.x = 5\n",
    "    \n",
    "    # Метод позволяет управлять поведением при \n",
    "    # попытке создания новых аттрибутов. В данном \n",
    "    # случае при попытке создать аттрибут функция \n",
    "    # напечатает строку и ничего больше делать не \n",
    "    # бдет, аттрибут не создастся\n",
    "    def __setattr__(self, name, value):\n",
    "        print(f\"Not gonna set{name}\")\n",
    "\n",
    "        \n",
    "obj = Ignorant()\n",
    "obj.math = True"
   ]
  },
  {
   "cell_type": "code",
   "execution_count": 14,
   "metadata": {},
   "outputs": [
    {
     "name": "stdout",
     "output_type": "stream",
     "text": [
      "Goodbye, x, you were 5\n"
     ]
    }
   ],
   "source": [
    "class Ignorant:\n",
    "    \n",
    "    def __init__(self):\n",
    "        self.x = 5\n",
    "\n",
    "    # Вызывается при объявлении del, можно \n",
    "    # переопределить поведение при удалении аттрибута\n",
    "    def __delattr__(self, name):\n",
    "        value = getattr(self, name)\n",
    "        print(f\"Goodbye, {name}, you were {value}\")\n",
    "        object.__delattr__(self, name)\n",
    "        \n",
    "        \n",
    "obj = Ignorant()\n",
    "del obj.x"
   ]
  },
  {
   "cell_type": "code",
   "execution_count": 15,
   "metadata": {},
   "outputs": [],
   "source": [
    "class Logger:\n",
    "    def __init__(self, filename):\n",
    "        self.filename = filename\n",
    "    \n",
    "    # Вызывается при попытки вызвать класс как \n",
    "    # функцию. Можно использовать как декоратор\n",
    "    def __call__(self, func):\n",
    "        with open(self.filename, \"w\") as f:\n",
    "            f.write(\"wow! You can log some data!\")\n",
    "        return func\n",
    "\n",
    "logger = Logger(\"log.txt\")\n",
    "\n",
    "@logger\n",
    "def completely_useless_function():\n",
    "    pass"
   ]
  },
  {
   "cell_type": "code",
   "execution_count": 16,
   "metadata": {},
   "outputs": [
    {
     "data": {
      "text/plain": [
       "23.14269405105604"
      ]
     },
     "execution_count": 16,
     "metadata": {},
     "output_type": "execute_result"
    }
   ],
   "source": [
    "import random\n",
    "\n",
    "class NoisyInt:\n",
    "    def __init__(self, value):\n",
    "        self.value = value\n",
    "    \n",
    "    # Аналог перегрузки операторов \n",
    "    def __add__(self, obj):\n",
    "        noise = random.uniform(-1, 1)\n",
    "        return self.value + obj.value + noise\n",
    "    \n",
    "a = NoisyInt(10)\n",
    "b = NoisyInt(14)\n",
    "a + b        "
   ]
  },
  {
   "cell_type": "code",
   "execution_count": 20,
   "metadata": {},
   "outputs": [
    {
     "name": "stdout",
     "output_type": "stream",
     "text": [
      "1\n"
     ]
    }
   ],
   "source": [
    "class PascalList:\n",
    "    def __init__(self, original_list=None):\n",
    "        self.container = original_list or []\n",
    "        \n",
    "    def __str__(self):\n",
    "        return self.container.__str__()\n",
    "    \n",
    "    # Нижеприведённые методы предназначены для \n",
    "    # работы со списками. словарями и т д, где index \n",
    "    # - индекс массива, value - присваиваемое \n",
    "    # значение \n",
    "    def __getitem__(self, index):\n",
    "        return self.container[index - 1]\n",
    "    \n",
    "    def __setitem__(self, index, value):\n",
    "        self.container[index - 1] = value\n",
    "\n",
    "numbers = PascalList([1, 2, 5, 7])\n",
    "\n",
    "print(numbers[1])  "
   ]
  },
  {
   "cell_type": "code",
   "execution_count": null,
   "metadata": {},
   "outputs": [],
   "source": []
  }
 ],
 "metadata": {
  "interpreter": {
   "hash": "14c7983801e14a91493c6a3ee1d54b6b657f90fc70b71d012a74244164ccd1d0"
  },
  "kernelspec": {
   "display_name": "Python 3.10.2 ('ml_venv')",
   "language": "python",
   "name": "python3"
  },
  "language_info": {
   "codemirror_mode": {
    "name": "ipython",
    "version": 3
   },
   "file_extension": ".py",
   "mimetype": "text/x-python",
   "name": "python",
   "nbconvert_exporter": "python",
   "pygments_lexer": "ipython3",
   "version": "3.10.2"
  },
  "orig_nbformat": 4
 },
 "nbformat": 4,
 "nbformat_minor": 2
}
