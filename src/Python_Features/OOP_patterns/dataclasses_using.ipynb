{
 "cells": [
  {
   "cell_type": "code",
   "execution_count": 10,
   "metadata": {},
   "outputs": [],
   "source": [
    "from dataclasses import dataclass, astuple, asdict, field\n",
    "from random import randint\n",
    "from pprint import pprint\n",
    "import inspect"
   ]
  },
  {
   "attachments": {},
   "cell_type": "markdown",
   "metadata": {},
   "source": [
    "# Init and srt"
   ]
  },
  {
   "cell_type": "code",
   "execution_count": 3,
   "metadata": {},
   "outputs": [
    {
     "name": "stdout",
     "output_type": "stream",
     "text": [
      "Larry, Ikw. 2\n"
     ]
    }
   ],
   "source": [
    "class Person:\n",
    "    def __init__(self, name: int, addres: str) -> None:\n",
    "        self.name = name\n",
    "        self.addres = addres\n",
    "    \n",
    "    def __str__(self) -> str:\n",
    "        return f\"{self.name}, {self.addres}\"\n",
    "\n",
    "p = Person(\"Larry\", \"Ikw. 2\")\n",
    "print(p)\n"
   ]
  },
  {
   "cell_type": "code",
   "execution_count": 8,
   "metadata": {},
   "outputs": [],
   "source": [
    "def generate_id():\n",
    "    return randint(0, 100500)"
   ]
  },
  {
   "cell_type": "code",
   "execution_count": 15,
   "metadata": {},
   "outputs": [
    {
     "name": "stdout",
     "output_type": "stream",
     "text": [
      "Person_2(name='Larry', addres='Ikw. 2', active=True, emain_addres=[], id=58725)\n"
     ]
    }
   ],
   "source": [
    "@dataclass\n",
    "class Person_2:\n",
    "    name: str\n",
    "    addres: str\n",
    "    active: bool = True\n",
    "    # email_addres: list[str] = [] # We can't do it\n",
    "    emain_addres: list[str] = field(default_factory=list)\n",
    "    # We can't change this value \n",
    "    id: str = field(init=False, default_factory=generate_id)\n",
    "    # Define in the nex func and not printed in repr\n",
    "    _search_string: str = field(init=False, repr=False)\n",
    "    \n",
    "    def __post_init__(self) -> None:\n",
    "        self._search_string = f\"{self.name}, {self.addres}\"\n",
    "\n",
    "p = Person_2(\"Larry\", \"Ikw. 2\")\n",
    "print(p)"
   ]
  },
  {
   "cell_type": "code",
   "execution_count": 13,
   "metadata": {},
   "outputs": [
    {
     "name": "stdout",
     "output_type": "stream",
     "text": [
      "Comment(id=1, text='Hello wolrd', replies=[])\n",
      "(1, 'Hello wolrd', [], None)\n",
      "{'id': 1, 'text': 'Hello wolrd', 'replies': [], 'forwardsds': None}\n",
      "[('__eq__', <function Comment.__eq__ at 0x00000173DA811870>),\n",
      " ('__init__', <function Comment.__init__ at 0x00000173DA810E50>),\n",
      " ('__repr__', <function Comment.__repr__ at 0x00000173D86483A0>)]\n"
     ]
    }
   ],
   "source": [
    "\n",
    "@dataclass\n",
    "class Comment:\n",
    "    id: int\n",
    "    text: str = \"None\" # Defailt values\n",
    "    replies: list[int] = field(default_factory=list) # Default val (mutable)\n",
    "    forwardsds: int = field(compare=False, hash=False, repr=False, default=None) # Default val (mutable)\n",
    "\n",
    "comment = Comment(1, \"Hello wolrd\")\n",
    "print(comment)\n",
    "print(astuple(comment))\n",
    "print(asdict(comment))\n",
    "\n",
    "pprint(inspect.getmembers(Comment, inspect.isfunction))"
   ]
  },
  {
   "cell_type": "code",
   "execution_count": 14,
   "metadata": {},
   "outputs": [
    {
     "name": "stdout",
     "output_type": "stream",
     "text": [
      "Comment(id=1, text='Hello wolrd')\n",
      "(1, 'Hello wolrd')\n",
      "{'id': 1, 'text': 'Hello wolrd'}\n",
      "[('__delattr__', <function Comment.__delattr__ at 0x00000173DA8124D0>),\n",
      " ('__eq__', <function Comment.__eq__ at 0x00000173DA811C60>),\n",
      " ('__hash__', <function Comment.__hash__ at 0x00000173DA811FC0>),\n",
      " ('__init__', <function Comment.__init__ at 0x00000173DA812320>),\n",
      " ('__repr__', <function Comment.__repr__ at 0x00000173DA8117E0>),\n",
      " ('__setattr__', <function Comment.__setattr__ at 0x00000173DA812830>)]\n"
     ]
    }
   ],
   "source": [
    "# If a class is immutable\n",
    "@dataclass(frozen=True)\n",
    "class Comment:\n",
    "    id: int\n",
    "    text: str\n",
    "\n",
    "comment = Comment(1, \"Hello wolrd\")\n",
    "print(comment)\n",
    "print(astuple(comment))\n",
    "print(asdict(comment))\n",
    "\n",
    "pprint(inspect.getmembers(Comment, inspect.isfunction))"
   ]
  },
  {
   "cell_type": "code",
   "execution_count": 15,
   "metadata": {},
   "outputs": [
    {
     "name": "stdout",
     "output_type": "stream",
     "text": [
      "Comment(id=1, text='Hello wolrd')\n",
      "(1, 'Hello wolrd')\n",
      "{'id': 1, 'text': 'Hello wolrd'}\n",
      "[('__eq__', <function Comment.__eq__ at 0x00000173DA812B00>),\n",
      " ('__ge__', <function Comment.__ge__ at 0x00000173DA812D40>),\n",
      " ('__gt__', <function Comment.__gt__ at 0x00000173DA812CB0>),\n",
      " ('__init__', <function Comment.__init__ at 0x00000173DA8127A0>),\n",
      " ('__le__', <function Comment.__le__ at 0x00000173DA812B90>),\n",
      " ('__lt__', <function Comment.__lt__ at 0x00000173DA812C20>),\n",
      " ('__repr__', <function Comment.__repr__ at 0x00000173DA8123B0>)]\n"
     ]
    }
   ],
   "source": [
    "# If a class is immutable\n",
    "@dataclass(order=True)\n",
    "class Comment:\n",
    "    id: int\n",
    "    text: str\n",
    "\n",
    "comment = Comment(1, \"Hello wolrd\")\n",
    "print(comment)\n",
    "print(astuple(comment))\n",
    "print(asdict(comment))\n",
    "\n",
    "pprint(inspect.getmembers(Comment, inspect.isfunction))"
   ]
  },
  {
   "cell_type": "code",
   "execution_count": null,
   "metadata": {},
   "outputs": [],
   "source": []
  }
 ],
 "metadata": {
  "kernelspec": {
   "display_name": "Python 3.10.4 ('venv': venv)",
   "language": "python",
   "name": "python3"
  },
  "language_info": {
   "codemirror_mode": {
    "name": "ipython",
    "version": 3
   },
   "file_extension": ".py",
   "mimetype": "text/x-python",
   "name": "python",
   "nbconvert_exporter": "python",
   "pygments_lexer": "ipython3",
   "version": "3.10.4"
  },
  "orig_nbformat": 4,
  "vscode": {
   "interpreter": {
    "hash": "d6e71dfe3b106887211decc9779e90b491303283ca8d1c2d9d0e2004f85f459f"
   }
  }
 },
 "nbformat": 4,
 "nbformat_minor": 2
}
