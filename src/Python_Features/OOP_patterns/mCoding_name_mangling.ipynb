{
 "cells": [
  {
   "attachments": {},
   "cell_type": "markdown",
   "metadata": {},
   "source": [
    "# __name is important"
   ]
  },
  {
   "cell_type": "code",
   "execution_count": 1,
   "metadata": {},
   "outputs": [],
   "source": [
    "class A:\n",
    "    __count = 0\n",
    "\n",
    "    def get_count(self):\n",
    "        return self.__count\n",
    "\n",
    "    def set_count(self, count):\n",
    "        self.__count = count\n"
   ]
  },
  {
   "cell_type": "code",
   "execution_count": 2,
   "metadata": {},
   "outputs": [
    {
     "name": "stdout",
     "output_type": "stream",
     "text": [
      "0\n",
      "0\n"
     ]
    }
   ],
   "source": [
    "a = A()\n",
    "print(a.get_count())\n",
    "a.__count = 42\n",
    "print(a.get_count())\n"
   ]
  },
  {
   "attachments": {},
   "cell_type": "markdown",
   "metadata": {},
   "source": [
    "# Without __"
   ]
  },
  {
   "cell_type": "code",
   "execution_count": 3,
   "metadata": {},
   "outputs": [],
   "source": [
    "class A:\n",
    "    count = 0\n",
    "\n",
    "    def get_count(self):\n",
    "        return self.count\n",
    "\n",
    "    def set_count(self, count):\n",
    "        self.count = count\n"
   ]
  },
  {
   "cell_type": "code",
   "execution_count": 4,
   "metadata": {},
   "outputs": [
    {
     "name": "stdout",
     "output_type": "stream",
     "text": [
      "0\n",
      "42\n"
     ]
    }
   ],
   "source": [
    "a = A()\n",
    "print(a.get_count())\n",
    "a.count = 42\n",
    "print(a.get_count())\n"
   ]
  },
  {
   "attachments": {},
   "cell_type": "markdown",
   "metadata": {},
   "source": [
    "# Welcome to hell "
   ]
  },
  {
   "cell_type": "code",
   "execution_count": 5,
   "metadata": {},
   "outputs": [
    {
     "data": {
      "text/plain": [
       "{'_A__x': 0, '__len__': Ellipsis, '__': Ellipsis}"
      ]
     },
     "metadata": {},
     "output_type": "display_data"
    },
    {
     "data": {
      "text/plain": [
       "mappingproxy({'__module__': '__main__',\n",
       "              '__init__': <function __main__.A.__init__(self, b)>,\n",
       "              '__dict__': <attribute '__dict__' of 'A' objects>,\n",
       "              '__weakref__': <attribute '__weakref__' of 'A' objects>,\n",
       "              '__doc__': None})"
      ]
     },
     "metadata": {},
     "output_type": "display_data"
    }
   ],
   "source": [
    "class B:\n",
    "    pass\n",
    "\n",
    "\n",
    "class A:\n",
    "    def __init__(self, b):\n",
    "        self.__x = 0  # -> _A__x\n",
    "        self.__len__ = ...  # NOT MANGLED\n",
    "        self.__ = ...  # NOT MANGLED\n",
    "        __y = 0  # -> _A___Y\n",
    "        import __abc  # -> import _A__abc\n",
    "        # import __abc.a # # -> import __abc.a\n",
    "\n",
    "        b.__x = 0  # Sets _A__x\n",
    "\n",
    "\n",
    "a = A(B())\n",
    "display(a.__dict__)\n",
    "display(A.__dict__)\n"
   ]
  },
  {
   "cell_type": "code",
   "execution_count": 6,
   "metadata": {},
   "outputs": [
    {
     "data": {
      "text/plain": [
       "{'_A__x': 0, '__len__': Ellipsis, '__': Ellipsis}"
      ]
     },
     "metadata": {},
     "output_type": "display_data"
    },
    {
     "data": {
      "text/plain": [
       "mappingproxy({'__module__': '__main__',\n",
       "              '__init__': <function __main__.A.__init__(self, b)>,\n",
       "              '__dict__': <attribute '__dict__' of 'A' objects>,\n",
       "              '__weakref__': <attribute '__weakref__' of 'A' objects>,\n",
       "              '__doc__': None})"
      ]
     },
     "metadata": {},
     "output_type": "display_data"
    }
   ],
   "source": [
    "class B:\n",
    "    pass\n",
    "\n",
    "\n",
    "class ________A:\n",
    "    def __init__(self, b):\n",
    "        self.__x = 0  # -> _A__x\n",
    "        self.__len__ = ...  # NOT MANGLED\n",
    "        self.__ = ...  # NOT MANGLED\n",
    "        __y = 0  # -> _A___Y\n",
    "        import __abc  # -> import _A__abc\n",
    "        # import __abc.a # # -> import __abc.a\n",
    "\n",
    "        b.__x = 0  # Sets _A__x\n",
    "\n",
    "\n",
    "a = ________A(B())\n",
    "display(a.__dict__)\n",
    "display(A.__dict__)\n"
   ]
  },
  {
   "cell_type": "code",
   "execution_count": 7,
   "metadata": {},
   "outputs": [
    {
     "data": {
      "text/plain": [
       "{'__x': 0, '__len__': Ellipsis, '__': Ellipsis}"
      ]
     },
     "metadata": {},
     "output_type": "display_data"
    },
    {
     "data": {
      "text/plain": [
       "mappingproxy({'__module__': '__main__',\n",
       "              '__init__': <function __main__.A.__init__(self, b)>,\n",
       "              '__dict__': <attribute '__dict__' of 'A' objects>,\n",
       "              '__weakref__': <attribute '__weakref__' of 'A' objects>,\n",
       "              '__doc__': None})"
      ]
     },
     "metadata": {},
     "output_type": "display_data"
    }
   ],
   "source": [
    "class B:\n",
    "    pass\n",
    "\n",
    "\n",
    "class ______:\n",
    "    def __init__(self, b):\n",
    "        self.__x = 0  # -> _ # NOT MANGLED\n",
    "        self.__len__ = ...  # NOT MANGLED\n",
    "        self.__ = ...  # NOT MANGLED\n",
    "        __y = 0  # ->  # NOT MANGLED\n",
    "        import __abc  # ->  # NOT MANGLED\n",
    "        # import __abc.a # # -> import __abc.a\n",
    "\n",
    "        b.__x = 0  # NOT MANGLED\n",
    "\n",
    "\n",
    "a = ______(B())\n",
    "display(a.__dict__)\n",
    "display(A.__dict__)\n"
   ]
  }
 ],
 "metadata": {
  "kernelspec": {
   "display_name": "venv",
   "language": "python",
   "name": "python3"
  },
  "language_info": {
   "codemirror_mode": {
    "name": "ipython",
    "version": 3
   },
   "file_extension": ".py",
   "mimetype": "text/x-python",
   "name": "python",
   "nbconvert_exporter": "python",
   "pygments_lexer": "ipython3",
   "version": "3.10.4"
  },
  "orig_nbformat": 4,
  "vscode": {
   "interpreter": {
    "hash": "d6e71dfe3b106887211decc9779e90b491303283ca8d1c2d9d0e2004f85f459f"
   }
  }
 },
 "nbformat": 4,
 "nbformat_minor": 2
}
