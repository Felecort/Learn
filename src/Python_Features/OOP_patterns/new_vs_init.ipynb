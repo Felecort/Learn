{
 "cells": [
  {
   "cell_type": "code",
   "execution_count": 9,
   "metadata": {},
   "outputs": [
    {
     "name": "stdout",
     "output_type": "stream",
     "text": [
      "new <class '__main__.A'> (1, 2, 3) {'a': 4}\n",
      "new <class '__main__.A'> (1, 2, 3) {'a': 4}\n",
      "None\n"
     ]
    }
   ],
   "source": [
    "class A:\n",
    "    # Return\n",
    "    def __new__(cls, *args, **kwargs):\n",
    "        print(\"new\", cls, args, kwargs)\n",
    "        # return super().__new__(cls)\n",
    "    \n",
    "    # Return nothing\n",
    "    def __init__(self, *args, **kwargs) -> None:\n",
    "        print(\"init\", self, args, kwargs)\n",
    "        \n",
    "x = A(1, 2, 3, a=4)\n",
    "y = A(1, 2, 3, a=4)\n",
    "print(x)"
   ]
  },
  {
   "cell_type": "markdown",
   "metadata": {},
   "source": [
    "Need to change immutable objects before they define"
   ]
  },
  {
   "cell_type": "code",
   "execution_count": null,
   "metadata": {},
   "outputs": [],
   "source": []
  }
 ],
 "metadata": {
  "kernelspec": {
   "display_name": "Python 3.10.4 ('venv': venv)",
   "language": "python",
   "name": "python3"
  },
  "language_info": {
   "codemirror_mode": {
    "name": "ipython",
    "version": 3
   },
   "file_extension": ".py",
   "mimetype": "text/x-python",
   "name": "python",
   "nbconvert_exporter": "python",
   "pygments_lexer": "ipython3",
   "version": "3.10.4"
  },
  "orig_nbformat": 4,
  "vscode": {
   "interpreter": {
    "hash": "d6e71dfe3b106887211decc9779e90b491303283ca8d1c2d9d0e2004f85f459f"
   }
  }
 },
 "nbformat": 4,
 "nbformat_minor": 2
}
