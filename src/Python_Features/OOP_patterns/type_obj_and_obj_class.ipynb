{
 "cells": [
  {
   "cell_type": "code",
   "execution_count": 7,
   "metadata": {},
   "outputs": [],
   "source": [
    "class Animal:\n",
    "    def __init__(self, name=\"Dog\") -> None:\n",
    "        self.name = name\n",
    "    \n",
    "    def __copy__(self):\n",
    "        return type(self)(self.name)\n",
    "    \n",
    "    def __eq__(self, other):\n",
    "        if type(self) is not type(other):\n",
    "            return NotImplemented\n",
    "        return self.name == other.name\n",
    "    \n",
    "    def __repr__(self):\n",
    "        return f\"{type(self).__name__}({self.name!r})\"\n",
    "    \n",
    "    \n",
    "class Dog(Animal):\n",
    "    pass"
   ]
  },
  {
   "cell_type": "code",
   "execution_count": 9,
   "metadata": {},
   "outputs": [
    {
     "name": "stdout",
     "output_type": "stream",
     "text": [
      "Animal('Cat')\n",
      "Dog('Bob')\n"
     ]
    }
   ],
   "source": [
    "cat = Animal(\"Cat\")\n",
    "dog = Dog(\"Bob\")\n",
    "print(cat)\n",
    "print(dog)\n"
   ]
  },
  {
   "cell_type": "code",
   "execution_count": null,
   "metadata": {},
   "outputs": [],
   "source": []
  }
 ],
 "metadata": {
  "kernelspec": {
   "display_name": "ml_venv",
   "language": "python",
   "name": "python3"
  },
  "language_info": {
   "codemirror_mode": {
    "name": "ipython",
    "version": 3
   },
   "file_extension": ".py",
   "mimetype": "text/x-python",
   "name": "python",
   "nbconvert_exporter": "python",
   "pygments_lexer": "ipython3",
   "version": "3.10.2"
  },
  "orig_nbformat": 4
 },
 "nbformat": 4,
 "nbformat_minor": 2
}
