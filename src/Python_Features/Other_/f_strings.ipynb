{
 "cells": [
  {
   "cell_type": "code",
   "execution_count": 1,
   "metadata": {},
   "outputs": [],
   "source": [
    "import datetime"
   ]
  },
  {
   "cell_type": "code",
   "execution_count": 2,
   "metadata": {},
   "outputs": [
    {
     "name": "stdout",
     "output_type": "stream",
     "text": [
      "The value is 😱\n",
      "str_val='😱'\n",
      "num_val % 2 = 0\n"
     ]
    }
   ],
   "source": [
    "str_val = \"😱\"\n",
    "num_val = 132\n",
    "print(f\"The value is {str_val}\")\n",
    "print(f\"{str_val=}\")\n",
    "print(f\"{num_val % 2 = }\")\n",
    "    "
   ]
  },
  {
   "cell_type": "code",
   "execution_count": 3,
   "metadata": {},
   "outputs": [
    {
     "name": "stdout",
     "output_type": "stream",
     "text": [
      "Return ASCII '\\U0001f631'\n",
      "Call repr '😱'\n",
      "Need for formating 😱\n"
     ]
    }
   ],
   "source": [
    "# Return ASCII\n",
    "print(f\"Return ASCII {str_val!a}\")\n",
    "\n",
    "# Call repr\n",
    "print(f\"Call repr {str_val!r}\") \n",
    "# print(f\"{repr(str_val)}\") # Equal\n",
    "\n",
    "# Need for formating\n",
    "print(f\"Need for formating {str_val!s}\")\n"
   ]
  },
  {
   "cell_type": "markdown",
   "metadata": {},
   "source": [
    "# Formatting"
   ]
  },
  {
   "cell_type": "code",
   "execution_count": 4,
   "metadata": {},
   "outputs": [],
   "source": [
    "class MyClass:\n",
    "    def __format__(self, format_spec) -> str:\n",
    "        print(f\"MyClass __formnat__ called with {format_spec=!r}\")\n",
    "        return \"MyClass()\""
   ]
  },
  {
   "cell_type": "code",
   "execution_count": 5,
   "metadata": {},
   "outputs": [
    {
     "name": "stdout",
     "output_type": "stream",
     "text": [
      "2022-11-07 15:18:08.993971\n",
      "now=2022-11-07\n",
      "123.47\n",
      "MyClass __formnat__ called with format_spec='blah blah %%MYFORMAT%%'\n",
      "MyClass()\n",
      "123.47\n"
     ]
    }
   ],
   "source": [
    "num_val = 123.465789\n",
    "now = datetime.datetime.utcnow()\n",
    "\n",
    "print(f\"{now}\")\n",
    "print(f\"{now=:%Y-%m-%d}\")\n",
    "print(f\"{num_val:.2f}\")\n",
    "print(f\"{MyClass():blah blah %%MYFORMAT%%}\")\n",
    "\n",
    "nested_format = \".2f\"\n",
    "print(f\"{num_val:{nested_format}}\")\n",
    "# print(f\"{}\")"
   ]
  }
 ],
 "metadata": {
  "kernelspec": {
   "display_name": "Python 3.10.4 ('venv': venv)",
   "language": "python",
   "name": "python3"
  },
  "language_info": {
   "codemirror_mode": {
    "name": "ipython",
    "version": 3
   },
   "file_extension": ".py",
   "mimetype": "text/x-python",
   "name": "python",
   "nbconvert_exporter": "python",
   "pygments_lexer": "ipython3",
   "version": "3.10.4"
  },
  "orig_nbformat": 4,
  "vscode": {
   "interpreter": {
    "hash": "d6e71dfe3b106887211decc9779e90b491303283ca8d1c2d9d0e2004f85f459f"
   }
  }
 },
 "nbformat": 4,
 "nbformat_minor": 2
}
