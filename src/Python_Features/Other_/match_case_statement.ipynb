{
 "cells": [
  {
   "cell_type": "code",
   "execution_count": 2,
   "metadata": {},
   "outputs": [
    {
     "name": "stdout",
     "output_type": "stream",
     "text": [
      "Загружаем\n",
      "Сохраняем\n",
      "Неизвестно как обработать\n"
     ]
    }
   ],
   "source": [
    "def load():\n",
    "    print(\"Загружаем\")\n",
    "\n",
    "def save():\n",
    "    print(\"Сохраняем\")\n",
    "\n",
    "def default():\n",
    "    print(\"Неизвестно как обработать\")\n",
    "# def main(value):\n",
    "#    if isinstance(value, str) and value == \"load\":\n",
    "#        load()\n",
    "#    elif isinstance(value, str) and value == \"save\":\n",
    "#        save()\n",
    "#    else:\n",
    "#        default()\n",
    "def main(value):\n",
    "    match value:\n",
    "        case \"load\":\n",
    "            load()\n",
    "        case \"save\":\n",
    "            save()\n",
    "        case _:\n",
    "            default()\n",
    "\n",
    "main(\"load\")\n",
    "main(\"save\")\n",
    "main(5645)"
   ]
  },
  {
   "cell_type": "code",
   "execution_count": null,
   "metadata": {},
   "outputs": [],
   "source": []
  },
  {
   "cell_type": "code",
   "execution_count": 3,
   "metadata": {},
   "outputs": [
    {
     "name": "stdout",
     "output_type": "stream",
     "text": [
      "Загружаем http://example.com/files/test.txt\n",
      "Загружаем http://example.com/files/test.txt\n",
      "Сохраняем в file.txt\n",
      "Неизвестно как эти данные обработать\n",
      "Неизвестно как эти данные обработать\n"
     ]
    }
   ],
   "source": [
    "def load(link):\n",
    "    print(\"Загружаем\", link)\n",
    "    return \"hello\"\n",
    "\n",
    "def save(link, filename):\n",
    "    data = load(link)\n",
    "    print(\"Сохраняем в\", filename)\n",
    "   \n",
    "def default(values):\n",
    "    print(\"Неизвестно как эти данные обработать\")\n",
    "# def main(data_string):\n",
    "#     values = data_string.split(\"~\")\n",
    "#     if isinstance(values, (list, tuple)) and len(values) == 2 and values[0] == \"load\":\n",
    "#         load(values[1])\n",
    "#     elif isinstance(values, (list, tuple)) and len(values) == 3 and values[0] == \"save\":\n",
    "#         save(values[1], values[2])\n",
    "#     else:\n",
    "#         default(values)\n",
    "        \n",
    "def main(data_string):\n",
    "   values = data_string.split(\"~\")\n",
    "   match values:\n",
    "       case \"load\", link:\n",
    "           load(link)\n",
    "       case \"save\", link, filename:\n",
    "           save(link, filename)\n",
    "       case _:\n",
    "           default(values)\n",
    "           \n",
    "           \n",
    "main(\"load~http://example.com/files/test.txt\")\n",
    "main(\"save~http://example.com/files/test.txt~file.txt\")\n",
    "main(\"use~http://example.com/files/test.txt~file.txt\")\n",
    "main(\"save~http://example.com/files/test.txt~file.txt~file2.txt\")"
   ]
  },
  {
   "cell_type": "code",
   "execution_count": null,
   "metadata": {},
   "outputs": [],
   "source": []
  },
  {
   "cell_type": "code",
   "execution_count": 5,
   "metadata": {},
   "outputs": [
    {
     "name": "stdout",
     "output_type": "stream",
     "text": [
      "Загружаем ['http://example.com/files/test.txt', 'http://example.com/files/test1.txt']\n"
     ]
    }
   ],
   "source": [
    "def load(links):\n",
    "    print(\"Загружаем\", links)\n",
    "    return \"hello\"\n",
    "\n",
    "\n",
    "def main(data_string):\n",
    "    values = data_string.split(\"~\")\n",
    "    match values:\n",
    "        case \"load\", *links:\n",
    "            load(links)\n",
    "        case _:\n",
    "            default(values)\n",
    "\n",
    "\n",
    "main(\"load~http://example.com/files/test.txt~http://example.com/files/test1.txt\")"
   ]
  },
  {
   "cell_type": "code",
   "execution_count": null,
   "metadata": {},
   "outputs": [],
   "source": []
  },
  {
   "cell_type": "code",
   "execution_count": 7,
   "metadata": {},
   "outputs": [
    {
     "name": "stdout",
     "output_type": "stream",
     "text": [
      "Пользователь Daniil получил доступ к функции load с правами 2\n",
      "Неудача\n"
     ]
    }
   ],
   "source": [
    "def main(data_string):\n",
    "   values = data_string.split(\"~\")\n",
    "   match values:\n",
    "       case name, (\"1\"|\"2\" as access), request:\n",
    "           print(f\"Пользователь {name} получил доступ к функции {request} с правами {access}\")\n",
    "       case _:\n",
    "           print(\"Неудача\")\n",
    "\n",
    "\n",
    "main(\"Daniil~2~load\")\n",
    "main(\"Kris~0~save\")"
   ]
  },
  {
   "cell_type": "code",
   "execution_count": null,
   "metadata": {},
   "outputs": [],
   "source": []
  },
  {
   "cell_type": "code",
   "execution_count": 8,
   "metadata": {},
   "outputs": [
    {
     "name": "stdout",
     "output_type": "stream",
     "text": [
      "Пользователь Daniil получил доступ к функции delete с правами 1\n"
     ]
    }
   ],
   "source": [
    "class UserRequest:\n",
    "    def __init__(self, name, access, request):\n",
    "        self.name = name\n",
    "        self.access = access\n",
    "        self.request = request\n",
    "\n",
    "\n",
    "def main(data_class):\n",
    "    match data_class:\n",
    "        case UserRequest(name=str(name), access=1|2 as access, request=request):\n",
    "            print(f\"Пользователь {name} получил доступ к функции {request} с правами {access}\")\n",
    "        case _:\n",
    "            print(\"Неудача\")\n",
    "\n",
    "\n",
    "user = UserRequest(\"Daniil\", 1, \"delete\")\n",
    "main(user)"
   ]
  },
  {
   "cell_type": "code",
   "execution_count": null,
   "metadata": {},
   "outputs": [],
   "source": []
  },
  {
   "cell_type": "code",
   "execution_count": 9,
   "metadata": {},
   "outputs": [
    {
     "name": "stdout",
     "output_type": "stream",
     "text": [
      "Пользователь Daniil получил доступ к функции delete с правами 1\n"
     ]
    }
   ],
   "source": [
    "class UserRequest:\n",
    "    __match_args__= ('name', 'access', 'request')\n",
    "    def __init__(self, name, access, request):\n",
    "        self.name = name\n",
    "        self.access = access\n",
    "        self.request = request\n",
    "\n",
    "\n",
    "def main(data_class):\n",
    "    match data_class:\n",
    "        case UserRequest(str(name), 1|2 as access, request):\n",
    "            print(f\"Пользователь {name} получил доступ к функции {request} с правами {access}\")\n",
    "        case _:\n",
    "            print(\"Неудача\")\n",
    "\n",
    "\n",
    "main(UserRequest(\"Daniil\", 1, \"delete\"))"
   ]
  }
 ],
 "metadata": {
  "interpreter": {
   "hash": "ac805d4b8f630684e1de3ae8c2600f0b8b1abe4ee43821025582f12f5d7ace01"
  },
  "kernelspec": {
   "display_name": "Python 3.9.6 ('venv': venv)",
   "language": "python",
   "name": "python3"
  },
  "language_info": {
   "codemirror_mode": {
    "name": "ipython",
    "version": 3
   },
   "file_extension": ".py",
   "mimetype": "text/x-python",
   "name": "python",
   "nbconvert_exporter": "python",
   "pygments_lexer": "ipython3",
   "version": "3.10.4"
  },
  "orig_nbformat": 4
 },
 "nbformat": 4,
 "nbformat_minor": 2
}
