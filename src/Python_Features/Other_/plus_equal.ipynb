{
 "cells": [
  {
   "cell_type": "code",
   "execution_count": null,
   "metadata": {},
   "outputs": [],
   "source": [
    "a_tuple = (1, 2)\n",
    "a_tuple[0] += 2 # Error"
   ]
  },
  {
   "cell_type": "code",
   "execution_count": null,
   "metadata": {},
   "outputs": [],
   "source": [
    "print(a_tuple)"
   ]
  },
  {
   "cell_type": "code",
   "execution_count": null,
   "metadata": {},
   "outputs": [],
   "source": [
    "greet_and_who = ([\"hello wolrld\"], [\"i'm alien\"])\n",
    "greet = greet_and_who[0]\n",
    "greet += [\"my name James Murfy\"]\n",
    "greet_and_who"
   ]
  },
  {
   "cell_type": "code",
   "execution_count": null,
   "metadata": {},
   "outputs": [],
   "source": [
    "greet_and_who = ([\"hello wolrld\"], [\"i'm alien\"])\n",
    "greet_and_who[0] += [\"my name is James Murphy\"] #Error"
   ]
  },
  {
   "cell_type": "code",
   "execution_count": null,
   "metadata": {},
   "outputs": [],
   "source": [
    "# But!\n",
    "# According a documentation it's a feature, not a bug \n",
    "greet_and_who"
   ]
  },
  {
   "cell_type": "markdown",
   "metadata": {},
   "source": [
    "We have an error when use +=, but our arr were changed"
   ]
  },
  {
   "cell_type": "code",
   "execution_count": null,
   "metadata": {},
   "outputs": [],
   "source": [
    "greet_and_who = ([\"hello wolrld\"], [\"i'm alien\"])\n",
    "try:\n",
    "    greet_and_who[0] += [\"my name James Murfy\"]\n",
    "except TypeError:\n",
    "    print(\"Error\")\n",
    "greet_and_who"
   ]
  }
 ],
 "metadata": {
  "interpreter": {
   "hash": "d6e71dfe3b106887211decc9779e90b491303283ca8d1c2d9d0e2004f85f459f"
  },
  "kernelspec": {
   "display_name": "Python 3.10.4 ('venv': venv)",
   "language": "python",
   "name": "python3"
  },
  "language_info": {
   "codemirror_mode": {
    "name": "ipython",
    "version": 3
   },
   "file_extension": ".py",
   "mimetype": "text/x-python",
   "name": "python",
   "nbconvert_exporter": "python",
   "pygments_lexer": "ipython3",
   "version": "3.10.4"
  },
  "orig_nbformat": 4
 },
 "nbformat": 4,
 "nbformat_minor": 2
}
