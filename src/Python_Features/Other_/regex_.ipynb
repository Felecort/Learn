{
 "cells": [
  {
   "cell_type": "code",
   "execution_count": 13,
   "metadata": {},
   "outputs": [],
   "source": [
    "import re"
   ]
  },
  {
   "attachments": {},
   "cell_type": "markdown",
   "metadata": {},
   "source": [
    "# The Basic\n",
    "\n",
    "* The dot regex . matches an arbitrary character.\n",
    "* The asterisk regex <pattern>* matches an arbitrary number of the regex\n",
    "<pattern>. Note that this includes zero matching instances.\n",
    "* The at-least-one regex <pattern>+ can match an arbitrary number of\n",
    "<pattern> but must match at least one instance.\n",
    "* The zero-or-one regex <pattern>? matches either zero or one instances\n",
    "of <pattern>.\n",
    "* The nongreedy asterisk regex *? matches as few arbitrary characters as\n",
    "possible to match the overall regex.\n",
    "* The regex <pattern>{m} matches exactly m copies of <pattern>.\n",
    "* The regex <pattern>{m,n} matches between m and n copies of <pattern>.\n",
    "* The regex <pattern_1>|<pattern_2> matches either <pattern_1>\n",
    "or <pattern_2>.\n",
    "* The regex <pattern_1><pattern_2> matches <pattern_1> and\n",
    "then <pattern_2>.\n",
    "* The regex (<pattern>) matches <pattern>. The parentheses group regu-\n",
    "lar expressions so you can control the order of execution (for exam-\n",
    "ple, (<pattern_1><pattern_2>)|<pattern_3> is different from <pattern_1>\n",
    "(<pattern_2>|<pattern_3>). The parentheses regex also creates a match-\n",
    "ing group, as you’ll see later in the section."
   ]
  },
  {
   "attachments": {},
   "cell_type": "markdown",
   "metadata": {},
   "source": [
    "## . - is equal everything"
   ]
  },
  {
   "cell_type": "code",
   "execution_count": 14,
   "metadata": {},
   "outputs": [
    {
     "data": {
      "text/plain": [
       "['block', 'block', 'block']"
      ]
     },
     "execution_count": 14,
     "metadata": {},
     "output_type": "execute_result"
    }
   ],
   "source": [
    "text = '''A blockchain, originally block chain,\n",
    "is a growing list of records, called blocks,\n",
    "which are linked using cryptography.\n",
    "'''\n",
    "\n",
    "re.findall(\"b...k\", text)"
   ]
  },
  {
   "attachments": {},
   "cell_type": "markdown",
   "metadata": {},
   "source": [
    "## *, asterix - arbitary number of symbols"
   ]
  },
  {
   "cell_type": "code",
   "execution_count": 15,
   "metadata": {},
   "outputs": [
    {
     "data": {
      "text/plain": [
       "['yptography']"
      ]
     },
     "execution_count": 15,
     "metadata": {},
     "output_type": "execute_result"
    }
   ],
   "source": [
    "re.findall(\"y.*y\", text) # arbitary any symbols\n",
    "# s* - arbitary s symbols "
   ]
  },
  {
   "cell_type": "code",
   "execution_count": 16,
   "metadata": {},
   "outputs": [
    {
     "data": {
      "text/plain": [
       "['abc', 'ab', 'abcc']"
      ]
     },
     "execution_count": 16,
     "metadata": {},
     "output_type": "execute_result"
    }
   ],
   "source": [
    "re.findall(\"abc*\", \"abc ab abcc ad\")"
   ]
  },
  {
   "attachments": {},
   "cell_type": "markdown",
   "metadata": {},
   "source": [
    "## (?) The Zero-or-one Regex "
   ]
  },
  {
   "cell_type": "code",
   "execution_count": 17,
   "metadata": {},
   "outputs": [
    {
     "data": {
      "text/plain": [
       "['block', 'block', 'blocks']"
      ]
     },
     "execution_count": 17,
     "metadata": {},
     "output_type": "execute_result"
    }
   ],
   "source": [
    "re.findall(\"blocks?\", text) # s?"
   ]
  },
  {
   "attachments": {},
   "cell_type": "markdown",
   "metadata": {},
   "source": [
    "### ungreedy: *?"
   ]
  },
  {
   "cell_type": "code",
   "execution_count": 18,
   "metadata": {},
   "outputs": [],
   "source": [
    "txt = '<div>hello world</div>'"
   ]
  },
  {
   "cell_type": "code",
   "execution_count": 19,
   "metadata": {},
   "outputs": [
    {
     "data": {
      "text/plain": [
       "['<div>hello world</div>']"
      ]
     },
     "execution_count": 19,
     "metadata": {},
     "output_type": "execute_result"
    }
   ],
   "source": [
    "re.findall(\"<.*>\", txt)"
   ]
  },
  {
   "cell_type": "code",
   "execution_count": 20,
   "metadata": {},
   "outputs": [
    {
     "data": {
      "text/plain": [
       "['<div>', '</div>']"
      ]
     },
     "execution_count": 20,
     "metadata": {},
     "output_type": "execute_result"
    }
   ],
   "source": [
    "re.findall(\"<.*?>\", txt)"
   ]
  },
  {
   "cell_type": "code",
   "execution_count": 21,
   "metadata": {},
   "outputs": [
    {
     "data": {
      "text/plain": [
       "['peter', 'piper', 'picked a peck of pickled pepper']"
      ]
     },
     "execution_count": 21,
     "metadata": {},
     "output_type": "execute_result"
    }
   ],
   "source": [
    "text = 'peter piper picked a peck of pickled peppers'\n",
    "re.findall(\"p.*?e.*?r\", text)"
   ]
  },
  {
   "attachments": {},
   "cell_type": "markdown",
   "metadata": {},
   "source": [
    "## Fixed number of character: {N}"
   ]
  },
  {
   "attachments": {},
   "cell_type": "markdown",
   "metadata": {},
   "source": [
    "* () matches whatever regex is inside.\n",
    "* {1,30} matches between 1 and 30 occurrences of the previous regex.\n",
    "* (.{1,30}) matches between 1 and 30 arbitrary characters."
   ]
  },
  {
   "cell_type": "code",
   "execution_count": 22,
   "metadata": {},
   "outputs": [],
   "source": [
    "text_1 = \"crypto-bot that is trading Bitcoin and other currencies\"\n",
    "text_2 = \"cryptographic encryption methods that can be cracked easily with quantum computers\""
   ]
  },
  {
   "cell_type": "code",
   "execution_count": 24,
   "metadata": {},
   "outputs": [
    {
     "name": "stdout",
     "output_type": "stream",
     "text": [
      "<re.Match object; span=(0, 34), match='crypto-bot that is trading Bitcoin'>\n",
      "None\n"
     ]
    }
   ],
   "source": [
    "pattern = re.compile(\"crypto(.{1,30})coin\")\n",
    "\n",
    "print(pattern.match(text_1))\n",
    "print(pattern.match(text_2))"
   ]
  },
  {
   "attachments": {},
   "cell_type": "markdown",
   "metadata": {},
   "source": [
    "## Match, serach, findall"
   ]
  },
  {
   "cell_type": "code",
   "execution_count": 27,
   "metadata": {},
   "outputs": [
    {
     "name": "stdout",
     "output_type": "stream",
     "text": [
      "None\n",
      "<re.Match object; span=(62, 102), match=\"Christmas has come and gone and I didn't\">\n",
      "[\"Christmas has come and gone and I didn't\", 'Christmas Quote']\n"
     ]
    }
   ],
   "source": [
    "text = '''\n",
    "\"One can never have enough socks\", said Dumbledore.\n",
    "\"Another Christmas has come and gone and I didn't\n",
    "get a single pair. People will insist on giving me books.\"\n",
    "Christmas Quote\n",
    "'''\n",
    "regex = 'Christ.*'\n",
    "print(re.match(regex, text))\n",
    "print(re.search(regex, text))\n",
    "print(re.findall(regex, text))"
   ]
  },
  {
   "attachments": {},
   "cell_type": "markdown",
   "metadata": {},
   "source": [
    "# Matching groups"
   ]
  },
  {
   "cell_type": "code",
   "execution_count": 38,
   "metadata": {},
   "outputs": [],
   "source": [
    "page = '''\n",
    "<!DOCTYPE html>\n",
    "<html>\n",
    "<body>\n",
    "<h1>My Programming Links</h1>\n",
    "<a href=\"https://app.finxter.com/\">test your Python skills</a>\n",
    "<a href=\"https://blog.finxter.com/recursion/\">Learn recursion</a>\n",
    "<a href=\"https://nostarch.com/\">Great books from NoStarchPress</a>\n",
    "<a href=\"http://finxter.com/\">Solve more Python puzzles</a>\n",
    "</body>\n",
    "</html>\n",
    "'''"
   ]
  },
  {
   "cell_type": "code",
   "execution_count": 39,
   "metadata": {},
   "outputs": [
    {
     "data": {
      "text/plain": [
       "['test', 'puzzle']"
      ]
     },
     "execution_count": 39,
     "metadata": {},
     "output_type": "execute_result"
    }
   ],
   "source": [
    "pattern = re.compile(\"<a.*?finxter.*?(test|puzzle).*?>\")\n",
    "re.findall(pattern, page)"
   ]
  },
  {
   "cell_type": "code",
   "execution_count": 40,
   "metadata": {},
   "outputs": [
    {
     "data": {
      "text/plain": [
       "[('<a href=\"https://app.finxter.com/\">test your Python skills</a>', 'test'),\n",
       " ('<a href=\"http://finxter.com/\">Solve more Python puzzles</a>', 'puzzle')]"
      ]
     },
     "execution_count": 40,
     "metadata": {},
     "output_type": "execute_result"
    }
   ],
   "source": [
    "pattern = re.compile(\"(<a.*?finxter.*?(test|puzzle).*?>)\")\n",
    "re.findall(pattern, page)"
   ]
  },
  {
   "attachments": {},
   "cell_type": "markdown",
   "metadata": {},
   "source": [
    "## Nested groups"
   ]
  },
  {
   "cell_type": "code",
   "execution_count": 41,
   "metadata": {},
   "outputs": [
    {
     "name": "stdout",
     "output_type": "stream",
     "text": [
      "['world']\n",
      "[('helloworld', 'world')]\n"
     ]
    }
   ],
   "source": [
    "string = 'helloworld'\n",
    "\n",
    "regex_1 = 'hello(world)'\n",
    "regex_2 = '(hello(world))'\n",
    "\n",
    "res_1 = re.findall(regex_1, string)\n",
    "res_2 = re.findall(regex_2, string)\n",
    "\n",
    "print(res_1)\n",
    "print(res_2)"
   ]
  },
  {
   "attachments": {},
   "cell_type": "markdown",
   "metadata": {},
   "source": [
    "## Digits or letters"
   ]
  },
  {
   "attachments": {},
   "cell_type": "markdown",
   "metadata": {},
   "source": [
    "* [a-e] -> a, b, c, d, e  \n",
    "* [0-3] -> 0, 1, 2, 3\n",
    "* [0-3a-c] -> 0, 1, 2, 3, a, b, c\n",
    "* [^0-3a-c] -> not a, b, c, 0, 1, 2, 3"
   ]
  },
  {
   "cell_type": "code",
   "execution_count": 43,
   "metadata": {},
   "outputs": [],
   "source": [
    "report = '''\n",
    "If you invested $1 in the year 1801, you would have $18087791.41 today.\n",
    "This is a 7.967% return on investment.\n",
    "But if you invested only $0.25 in 1801, you would end up with $4521947.8525.\n",
    "'''\n",
    "dollars = [x[0] for x in re.findall('(\\$[0-9]+(\\.[0-9]*)?)', report)]"
   ]
  },
  {
   "cell_type": "code",
   "execution_count": 44,
   "metadata": {},
   "outputs": [
    {
     "name": "stdout",
     "output_type": "stream",
     "text": [
      "['$1', '$18087791.41', '$0.25', '$4521947.8525']\n"
     ]
    }
   ],
   "source": [
    "print(dollars)"
   ]
  },
  {
   "cell_type": "code",
   "execution_count": 58,
   "metadata": {},
   "outputs": [],
   "source": [
    "article = '''\n",
    "The algorithm has important practical applications\n",
    "http://blog.finxter.com/applications/\n",
    "in many basic data structures such as sets, trees,\n",
    "dictionaries, bags, bag trees, bag dictionaries,\n",
    "hash sets, https://blog.finxter.com/sets-in-python/\n",
    "hash tables, maps, and arrays. http://blog.finxter.com/\n",
    "http://not-a-valid-url\n",
    "http:/bla.ba.com\n",
    "http://bo.bo.bo.bo.bo.bo/\n",
    "http://bo.bo.bo.bo.bo.bo/333483--33343-/\n",
    "'''"
   ]
  },
  {
   "cell_type": "code",
   "execution_count": 59,
   "metadata": {},
   "outputs": [
    {
     "data": {
      "text/plain": [
       "['http://blog.finxter.com/applications/',\n",
       " 'http://blog.finxter.com/',\n",
       " 'http://bo.bo.bo.bo.bo.bo/',\n",
       " 'http://bo.bo.bo.bo.bo.bo/333483--33343-/']"
      ]
     },
     "execution_count": 59,
     "metadata": {},
     "output_type": "execute_result"
    }
   ],
   "source": [
    "stale_links = re.findall('http://[a-z0-9_\\-\\.]+\\.[a-z0-9_\\-\\/]+', article)\n",
    "stale_links"
   ]
  },
  {
   "cell_type": "code",
   "execution_count": 61,
   "metadata": {},
   "outputs": [
    {
     "name": "stdout",
     "output_type": "stream",
     "text": [
      "[]\n",
      "['xxxy']\n",
      "['xxxxxy']\n",
      "['xxxxxy']\n"
     ]
    }
   ],
   "source": [
    "print(re.findall('x{3,5}y', 'xy'))\n",
    "print(re.findall('x{3,5}y', 'xxxy'))\n",
    "print(re.findall('x{3,5}y', 'xxxxxy'))\n",
    "print(re.findall('x{3,5}y', 'xxxxxxxxxxxxxxxxxy'))"
   ]
  },
  {
   "attachments": {},
   "cell_type": "markdown",
   "metadata": {},
   "source": [
    "## fullmatch  \n",
    "checks whether the\n",
    "regex matches the full string as the name suggests."
   ]
  },
  {
   "cell_type": "code",
   "execution_count": 62,
   "metadata": {},
   "outputs": [
    {
     "name": "stdout",
     "output_type": "stream",
     "text": [
      "True\n",
      "True\n",
      "False\n",
      "False\n",
      "False\n",
      "True\n"
     ]
    }
   ],
   "source": [
    "inputs = ['18:29', '23:55', '123', 'ab:de', '18:299', '99:99']\n",
    "input_ok = lambda x: re.fullmatch('[0-9]{2}:[0-9]{2}', x) != None\n",
    "for x in inputs:\n",
    "    print(input_ok(x))"
   ]
  },
  {
   "cell_type": "code",
   "execution_count": 63,
   "metadata": {},
   "outputs": [
    {
     "name": "stdout",
     "output_type": "stream",
     "text": [
      "True\n",
      "True\n",
      "False\n",
      "False\n",
      "False\n",
      "False\n"
     ]
    }
   ],
   "source": [
    "inputs = ['18:29', '23:55', '123', 'ab:de', '18:299', '99:99']\n",
    "input_ok = lambda x: re.fullmatch('([01][0-9]|2[0-3]):[0-5][0-9]', x) != None\n",
    "for x in inputs:\n",
    "    print(input_ok(x))"
   ]
  },
  {
   "attachments": {},
   "cell_type": "markdown",
   "metadata": {},
   "source": [
    "## named group (variables)  \n",
    "`(?P\\<name\\>...)`"
   ]
  },
  {
   "cell_type": "code",
   "execution_count": 66,
   "metadata": {},
   "outputs": [
    {
     "name": "stdout",
     "output_type": "stream",
     "text": [
      "<re.Match object; span=(9, 13), match='\"hi\"'>\n"
     ]
    }
   ],
   "source": [
    "pattern = '(?P<quote>[\\'\"]).*(?P=quote)'\n",
    "text = 'She said \"hi\"'\n",
    "print(re.search(pattern, text))"
   ]
  },
  {
   "attachments": {},
   "cell_type": "markdown",
   "metadata": {},
   "source": [
    "* `\\s` matches any whitespace character (equivalent to `[\\r\\n\\t\\f\\v ]`)"
   ]
  },
  {
   "cell_type": "code",
   "execution_count": 74,
   "metadata": {},
   "outputs": [
    {
     "data": {
      "text/plain": [
       "[('thirteen.', 'e'),\n",
       " ('nuzzled', 'z'),\n",
       " ('effort', 'f'),\n",
       " ('slipped', 'p'),\n",
       " ('glass', 's'),\n",
       " ('glass', 's'),\n",
       " ('doors', 'o'),\n",
       " ('gritty', 't'),\n",
       " ('--', '-'),\n",
       " ('Orwell,', 'l')]"
      ]
     },
     "execution_count": 74,
     "metadata": {},
     "output_type": "execute_result"
    }
   ],
   "source": [
    "text = '''\n",
    "It was a bright cold day in April, and the clocks were\n",
    "striking thirteen. Winston Smith, his chin nuzzled into\n",
    "his breast in an effort to escape the vile wind, slipped\n",
    "quickly through the glass doors of Victory Mansions,\n",
    "though not quickly enough to prevent a swirl of gritty\n",
    "dust from entering along with him.\n",
    "-- George Orwell, 1984\n",
    "'''\n",
    "duplicates = re.findall('([^\\s]*(?P<x>[^\\s])(?P=x)[^\\s]*)', text)\n",
    "duplicates"
   ]
  },
  {
   "cell_type": "code",
   "execution_count": 77,
   "metadata": {},
   "outputs": [
    {
     "name": "stdout",
     "output_type": "stream",
     "text": [
      "<re.Match object; span=(11, 34), match=' words too often words '>\n"
     ]
    }
   ],
   "source": [
    "text = text = 'if you use words too often words become used'\n",
    "pattern = \"\\s(?P<repeat>[a-z]+)\\s+([a-z+\\s+]){0,10}(?P=repeat)\\s\"\n",
    "print(re.search(pattern, \" \" + text + \" \"))"
   ]
  },
  {
   "cell_type": "code",
   "execution_count": 78,
   "metadata": {},
   "outputs": [],
   "source": [
    "re.search(\"\\b(\\w{1,10})\\b\\s+\\b\\1\\b\", text)"
   ]
  },
  {
   "cell_type": "code",
   "execution_count": 80,
   "metadata": {},
   "outputs": [
    {
     "name": "stdout",
     "output_type": "stream",
     "text": [
      "[]\n"
     ]
    }
   ],
   "source": [
    "txt = \"hello world hello\"\n",
    "pattern = \"\\b(\\w{1,10})\\b\\s+\\b\\1\\b\"\n",
    "print(re.search(pattern, \" \" + txt + \" \"))"
   ]
  },
  {
   "attachments": {},
   "cell_type": "markdown",
   "metadata": {},
   "source": [
    "# Modifying text using sub"
   ]
  },
  {
   "attachments": {},
   "cell_type": "markdown",
   "metadata": {},
   "source": [
    "## Exclusion expression  \n",
    "Negative Lookahead: `expr(?!cond)`"
   ]
  },
  {
   "cell_type": "code",
   "execution_count": 83,
   "metadata": {},
   "outputs": [
    {
     "name": "stdout",
     "output_type": "stream",
     "text": [
      "\n",
      "ALICE DOE married John Doe.\n",
      "The new name of former 'Alice Wonderland' is Alice Doe.\n",
      "ALICE DOE replaces her old name 'Wonderland' with her new name 'Doe'.\n",
      "Alice's sister Jane Wonderland still keeps her old name.\n",
      "\n"
     ]
    }
   ],
   "source": [
    "text = '''\n",
    "Alice Wonderland married John Doe.\n",
    "The new name of former 'Alice Wonderland' is Alice Doe.\n",
    "Alice Wonderland replaces her old name 'Wonderland' with her new name 'Doe'.\n",
    "Alice's sister Jane Wonderland still keeps her old name.\n",
    "'''\n",
    "updated_text = re.sub(\"Alice Wonderland(?!\\')\", 'ALICE DOE', text)\n",
    "print(updated_text)"
   ]
  },
  {
   "cell_type": "code",
   "execution_count": null,
   "metadata": {},
   "outputs": [],
   "source": []
  }
 ],
 "metadata": {
  "kernelspec": {
   "display_name": "ml_venv",
   "language": "python",
   "name": "python3"
  },
  "language_info": {
   "codemirror_mode": {
    "name": "ipython",
    "version": 3
   },
   "file_extension": ".py",
   "mimetype": "text/x-python",
   "name": "python",
   "nbconvert_exporter": "python",
   "pygments_lexer": "ipython3",
   "version": "3.10.4"
  },
  "orig_nbformat": 4
 },
 "nbformat": 4,
 "nbformat_minor": 2
}
