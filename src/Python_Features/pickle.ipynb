{
 "cells": [
  {
   "cell_type": "code",
   "execution_count": 41,
   "metadata": {},
   "outputs": [],
   "source": [
    "import pickle"
   ]
  },
  {
   "cell_type": "code",
   "execution_count": 42,
   "metadata": {},
   "outputs": [],
   "source": [
    "class ExampleClass:\n",
    "    a_int = 12\n",
    "    a_str = \"hello\"\n",
    "    a_list = [1, 2, 3]\n",
    "    a_dickt = {\"a\": 1, \"b\": 2}\n",
    "    a_tuple = (1, 2, 3)\n",
    "    \n",
    "    def __str__(self):\n",
    "        return \"aboba\"\n",
    "    \n",
    "    def __repr__(self):\n",
    "        return str(self.a_dickt)\n",
    "        return \"aboba\"\n"
   ]
  },
  {
   "cell_type": "code",
   "execution_count": 43,
   "metadata": {},
   "outputs": [
    {
     "name": "stdout",
     "output_type": "stream",
     "text": [
      "b'\\x80\\x04\\x95 \\x00\\x00\\x00\\x00\\x00\\x00\\x00\\x8c\\x08__main__\\x94\\x8c\\x0cExampleClass\\x94\\x93\\x94)\\x81\\x94.'\n"
     ]
    }
   ],
   "source": [
    "my_obj = ExampleClass()\n",
    "pickled_obj = pickle.dumps(my_obj)\n",
    "print(pickled_obj)"
   ]
  },
  {
   "cell_type": "code",
   "execution_count": 44,
   "metadata": {},
   "outputs": [
    {
     "name": "stdout",
     "output_type": "stream",
     "text": [
      "{'a': 1, 'b': 2}\n",
      "None\n"
     ]
    }
   ],
   "source": [
    "print(my_obj.a_dickt)\n",
    "my_obj.a_dickt = None\n",
    "print(my_obj.a_dickt)\n"
   ]
  },
  {
   "cell_type": "code",
   "execution_count": 45,
   "metadata": {},
   "outputs": [
    {
     "data": {
      "text/plain": [
       "{'a': 1, 'b': 2}"
      ]
     },
     "execution_count": 45,
     "metadata": {},
     "output_type": "execute_result"
    }
   ],
   "source": [
    "my_unpacked_obj = pickle.loads(pickled_obj) \n",
    "my_unpacked_obj"
   ]
  }
 ],
 "metadata": {
  "kernelspec": {
   "display_name": "venv_310",
   "language": "python",
   "name": "python3"
  },
  "language_info": {
   "codemirror_mode": {
    "name": "ipython",
    "version": 3
   },
   "file_extension": ".py",
   "mimetype": "text/x-python",
   "name": "python",
   "nbconvert_exporter": "python",
   "pygments_lexer": "ipython3",
   "version": "3.10.12"
  },
  "orig_nbformat": 4
 },
 "nbformat": 4,
 "nbformat_minor": 2
}
