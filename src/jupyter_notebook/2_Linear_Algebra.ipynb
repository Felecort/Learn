{
 "cells": [
  {
   "cell_type": "code",
   "execution_count": 23,
   "id": "38df0a0e",
   "metadata": {},
   "outputs": [],
   "source": [
    "from math import sqrt\n",
    "from random import randrange"
   ]
  },
  {
   "cell_type": "markdown",
   "id": "4a47d892",
   "metadata": {},
   "source": [
    "Вектор можно проедставить как список чисел (3 числа - трёхмерный вектор)  \n",
    "В качестве векторов следует использовать библиотеку numpy\n"
   ]
  },
  {
   "cell_type": "code",
   "execution_count": 1,
   "id": "f9321109",
   "metadata": {},
   "outputs": [],
   "source": [
    "height_weight_age = [175,\n",
    "                    68,\n",
    "                    40]\n",
    "grades = [95,\n",
    "         801,\n",
    "         75,\n",
    "         62]\n"
   ]
  },
  {
   "cell_type": "markdown",
   "id": "59237fd1",
   "metadata": {},
   "source": [
    "Сумма и разность векторов"
   ]
  },
  {
   "cell_type": "code",
   "execution_count": 1,
   "id": "98da83f3",
   "metadata": {},
   "outputs": [],
   "source": [
    "def vector_add(v1, v2):\n",
    "    return [v1_i + v2_i for v1_i, v2_i in zip(v1, v2)]\n",
    "\n",
    "\n",
    "def vector_subtract(v1, v2):\n",
    "    return [v1_i - v2_i for v1_i, v2_i in zip(v1, v2)]"
   ]
  },
  {
   "cell_type": "code",
   "execution_count": 4,
   "id": "97bc8026",
   "metadata": {},
   "outputs": [
    {
     "data": {
      "text/plain": [
       "[6, 7, 8]"
      ]
     },
     "execution_count": 4,
     "metadata": {},
     "output_type": "execute_result"
    }
   ],
   "source": [
    "vector_add([1, 2, 3], [5, 5, 5])"
   ]
  },
  {
   "cell_type": "markdown",
   "id": "718e5925",
   "metadata": {},
   "source": [
    "Покомпонентная сумма списка векторов \n",
    "(свёртка списка векторов)"
   ]
  },
  {
   "cell_type": "code",
   "execution_count": 5,
   "id": "e049eb5e",
   "metadata": {},
   "outputs": [],
   "source": [
    "def vector_sum1(vectors):\n",
    "    result = vectors[0]\n",
    "    for vector in vectors[1:]:\n",
    "        result = vector_add(result, vector)\n",
    "    return result\n",
    "\n",
    "\n",
    "def vector_sum2(vectors):\n",
    "    return reduce(vector_add, vectors)\n",
    "\n",
    "\n",
    "vector_sum3 = partial(reduce, vector_add)\n"
   ]
  },
  {
   "cell_type": "markdown",
   "id": "e16e4119",
   "metadata": {},
   "source": [
    "Умножение вектора на скаляр\n"
   ]
  },
  {
   "cell_type": "code",
   "execution_count": 6,
   "id": "98b2f649",
   "metadata": {},
   "outputs": [],
   "source": [
    "def scalar_multiply(v, c):\n",
    "    return [c * v_i for v_i in v]"
   ]
  },
  {
   "cell_type": "markdown",
   "id": "bfe01bdb",
   "metadata": {},
   "source": [
    "Вычисление среднего вектора из списка векторов"
   ]
  },
  {
   "cell_type": "code",
   "execution_count": 7,
   "id": "6606e2fa",
   "metadata": {},
   "outputs": [],
   "source": [
    "def vector_mean(vectors):\n",
    "    n = len(vectors)\n",
    "    return scalar_multiply(vector_sum1(vectors), 1 / n)"
   ]
  },
  {
   "cell_type": "markdown",
   "id": "c7d7dfb0",
   "metadata": {},
   "source": [
    "Скалярное произведение векторов"
   ]
  },
  {
   "cell_type": "code",
   "execution_count": 8,
   "id": "de80d46c",
   "metadata": {},
   "outputs": [],
   "source": [
    "def dot(v1, v2):\n",
    "    return sum(v1_i * v2_i for v1_i, v2_i in zip(v1, v2))"
   ]
  },
  {
   "cell_type": "markdown",
   "id": "6290d713",
   "metadata": {},
   "source": [
    "Сумма квадратов вектора"
   ]
  },
  {
   "cell_type": "code",
   "execution_count": 10,
   "id": "3850a07f",
   "metadata": {},
   "outputs": [],
   "source": [
    "def sum_of_squares(v):\n",
    "    return dot(v, v)"
   ]
  },
  {
   "cell_type": "markdown",
   "id": "63a2aa69",
   "metadata": {},
   "source": [
    "Длина (величина) вектора"
   ]
  },
  {
   "cell_type": "code",
   "execution_count": 12,
   "id": "3bcf50da",
   "metadata": {},
   "outputs": [],
   "source": [
    "def magnitude(v):\n",
    "    return sqrt(sum_of_squares(v))"
   ]
  },
  {
   "cell_type": "markdown",
   "id": "893441a3",
   "metadata": {},
   "source": [
    "Квадрат расстояния между двумя векторами  \n",
    "Расстояние между векторами(2 варианта)"
   ]
  },
  {
   "cell_type": "code",
   "execution_count": 13,
   "id": "a6820a69",
   "metadata": {},
   "outputs": [],
   "source": [
    "def square_distance(v1, v2):\n",
    "    return sum_of_squares(vector_substract(v1, v2))\n",
    "\n",
    "\n",
    "def distance(v1, v2):\n",
    "    return magnitude(vector_substract(v1, v2))"
   ]
  },
  {
   "cell_type": "markdown",
   "id": "dfc28472",
   "metadata": {},
   "source": [
    "Матрицы"
   ]
  },
  {
   "cell_type": "code",
   "execution_count": 16,
   "id": "d15b45ae",
   "metadata": {},
   "outputs": [],
   "source": [
    "def shape(matrix):\n",
    "    num_rows = len(matrix)\n",
    "    num_cols = len(matrix[0]) if matrix else 0\n",
    "    return num_rows, num_cols"
   ]
  },
  {
   "cell_type": "code",
   "execution_count": 31,
   "id": "c7ca989a",
   "metadata": {},
   "outputs": [],
   "source": [
    "def is_diagonal(i, j):\n",
    "    return 1 if i == j else 0\n",
    "\n",
    "\n",
    "def make_matrix(num_rows, num_cols, entry_fn):\n",
    "    \n",
    "    return [[entry_fn(i, j)\n",
    "            for j in range(num_cols)]\n",
    "            for i in range(num_rows)]"
   ]
  },
  {
   "cell_type": "code",
   "execution_count": 32,
   "id": "a8da7bd3",
   "metadata": {},
   "outputs": [
    {
     "data": {
      "text/plain": [
       "[[1, 0, 0, 0, 0],\n",
       " [0, 1, 0, 0, 0],\n",
       " [0, 0, 1, 0, 0],\n",
       " [0, 0, 0, 1, 0],\n",
       " [0, 0, 0, 0, 1]]"
      ]
     },
     "execution_count": 32,
     "metadata": {},
     "output_type": "execute_result"
    }
   ],
   "source": [
    "make_matrix(5, 5, is_diagonal)"
   ]
  },
  {
   "cell_type": "code",
   "execution_count": null,
   "id": "962156f9",
   "metadata": {},
   "outputs": [],
   "source": []
  }
 ],
 "metadata": {
  "kernelspec": {
   "display_name": "Python 3",
   "language": "python",
   "name": "python3"
  },
  "language_info": {
   "codemirror_mode": {
    "name": "ipython",
    "version": 3
   },
   "file_extension": ".py",
   "mimetype": "text/x-python",
   "name": "python",
   "nbconvert_exporter": "python",
   "pygments_lexer": "ipython3",
   "version": "3.8.8"
  }
 },
 "nbformat": 4,
 "nbformat_minor": 5
}
